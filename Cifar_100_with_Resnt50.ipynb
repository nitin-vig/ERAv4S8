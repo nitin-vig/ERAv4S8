{
  "cells": [
    {
      "cell_type": "markdown",
      "metadata": {
        "id": "view-in-github",
        "colab_type": "text"
      },
      "source": [
        "<a href=\"https://colab.research.google.com/github/nitin-vig/ERAv4S8/blob/main/Cifar_100_with_Resnt50.ipynb\" target=\"_parent\"><img src=\"https://colab.research.google.com/assets/colab-badge.svg\" alt=\"Open In Colab\"/></a>"
      ]
    },
    {
      "cell_type": "code",
      "execution_count": 133,
      "metadata": {
        "id": "cOSlh9n4c-hH"
      },
      "outputs": [],
      "source": []
    },
    {
      "cell_type": "markdown",
      "metadata": {
        "id": "u-GYmfW8dGpQ"
      },
      "source": []
    },
    {
      "cell_type": "markdown",
      "metadata": {
        "id": "XC8UX7LDdHa0"
      },
      "source": [
        "\n",
        "\n",
        "# Cifar 100 with Resnt50"
      ]
    },
    {
      "cell_type": "markdown",
      "metadata": {
        "id": "7XzvJLus2WJ2"
      },
      "source": []
    },
    {
      "cell_type": "code",
      "execution_count": 134,
      "metadata": {
        "id": "UxaYbdi2dLBO"
      },
      "outputs": [],
      "source": [
        "from __future__ import print_function\n",
        "import torch\n",
        "import torch.nn as nn\n",
        "import torch.nn.functional as F\n",
        "import torch.optim as optim\n",
        "from torchvision import datasets, transforms\n",
        "from matplotlib import pyplot as plt\n",
        "import albumentations as A\n",
        "from albumentations.pytorch import ToTensorV2\n",
        "import numpy as np"
      ]
    },
    {
      "cell_type": "markdown",
      "metadata": {
        "id": "g4fYw485T0IV"
      },
      "source": [
        "**Compute Mean and Standard Deviation for Normalization of data**. Commented as it is needed only once"
      ]
    },
    {
      "cell_type": "code",
      "execution_count": 134,
      "metadata": {
        "id": "-A43tRpdTzmU"
      },
      "outputs": [],
      "source": []
    },
    {
      "cell_type": "code",
      "execution_count": 135,
      "metadata": {
        "id": "Uei6QCR0TD6V"
      },
      "outputs": [],
      "source": [
        "# import torch\n",
        "# from torchvision import datasets, transforms\n",
        "# from torch.utils.data import DataLoader\n",
        "# from tqdm import tqdm\n",
        "\n",
        "# def get_mean_and_std(dataloader):\n",
        "#     \"\"\"\n",
        "#     Calculate the mean and standard deviation of a dataset.\n",
        "\n",
        "#     Args:\n",
        "#         dataloader (DataLoader): The DataLoader for the dataset.\n",
        "\n",
        "#     Returns:\n",
        "#         tuple: The mean and standard deviation tensors for each channel.\n",
        "#     \"\"\"\n",
        "#     channels_sum, channels_squared_sum, num_batches = 0, 0, 0\n",
        "#     for data, _ in tqdm(dataloader, desc=\"Calculating mean and std\"):\n",
        "#         # Mean over batch, height, and width, but not over the channels\n",
        "#         channels_sum += torch.mean(data, dim=[0, 2, 3])\n",
        "#         channels_squared_sum += torch.mean(data**2, dim=[0, 2, 3])\n",
        "#         num_batches += 1\n",
        "\n",
        "#     mean = channels_sum / num_batches\n",
        "#     # Std = sqrt(E[X^2] - (E[X])^2)\n",
        "#     std = (channels_squared_sum / num_batches - mean ** 2) ** 0.5\n",
        "#     return mean, std\n",
        "\n",
        "# # 1. Load the dataset without normalization (only convert to tensor)\n",
        "# # This will automatically download the dataset if it's not present\n",
        "# transform = transforms.Compose([transforms.ToTensor()])\n",
        "# train_dataset = datasets.CIFAR100(root='./data', train=True, download=True, transform=transform)\n",
        "\n",
        "# # 2. Create a DataLoader\n",
        "# train_loader = DataLoader(train_dataset, batch_size=128, shuffle=False)\n",
        "\n",
        "# # 3. Get the mean and standard deviation\n",
        "# mean, std = get_mean_and_std(train_loader)\n",
        "\n",
        "# print('Calculated Mean:', mean)\n",
        "# print('Calculated Standard Deviation:', std)\n",
        "\n",
        "# 100%|██████████| 169M/169M [00:06<00:00, 27.9MB/s]\n",
        "# Calculating mean and std: 100%|██████████| 391/391 [00:07<00:00, 50.50it/s]\n",
        "# Calculated Mean: tensor([0.5070, 0.4865, 0.4409])\n",
        "# Calculated Standard Deviation: tensor([0.2673, 0.2564, 0.2761])"
      ]
    },
    {
      "cell_type": "code",
      "execution_count": 136,
      "metadata": {
        "id": "RLvCZKLp7lh2",
        "colab": {
          "base_uri": "https://localhost:8080/"
        },
        "outputId": "ca99aa3d-0396-4fb0-bfb0-1f3fa270a17d"
      },
      "outputs": [
        {
          "output_type": "stream",
          "name": "stderr",
          "text": [
            "/tmp/ipython-input-3906979243.py:48: UserWarning: Argument(s) 'value' are not valid for transform PadIfNeeded\n",
            "  A.PadIfNeeded(min_height=40, min_width=40, border_mode=0, value=0, p=1.0),  # Pad first\n",
            "/tmp/ipython-input-3906979243.py:53: UserWarning: Argument(s) 'max_holes, max_height, max_width, min_height, min_width, fill_value' are not valid for transform CoarseDropout\n",
            "  A.CoarseDropout(\n",
            "/tmp/ipython-input-3906979243.py:62: UserWarning: Argument(s) 'var_limit' are not valid for transform GaussNoise\n",
            "  A.GaussNoise(var_limit=(10.0, 50.0), p=1.0),\n"
          ]
        }
      ],
      "source": [
        "# Train Phase transformations\n",
        "# train_transforms = transforms.Compose([\n",
        "\n",
        "#                                        transforms.ToTensor(),\n",
        "#                                        transforms.Normalize((0.4914, 0.4822, 0.4465), (0.2470, 0.2435, 0.2616),), # The mean and std have to be sequences (e.g., tuples), therefore you should add a comma after the values.\n",
        "#                                        A.CoarseDropout(num_holes_range=(1,1),hole_height_range=(16,16),hole_width_range=(16,16),p=0.5),\n",
        "#                                        A.HorizontalFlip(0.5),\n",
        "#                                        A.ShiftScaleRotate(shift_limit=1,scale_limit=1,rotate_limit=1,p=0.5)\n",
        "#                                        ])\n",
        "# Define your Albumentations pipeline\n",
        "import albumentations as A\n",
        "from albumentations.pytorch import ToTensorV2\n",
        "import numpy as np\n",
        "\n",
        "CIFAR_MEAN = (0.5070, 0.4865, 0.4409)\n",
        "CIFAR_STD  = (0.2673, 0.2564, 0.2761)\n",
        "\n",
        "# train_alb = A.Compose([\n",
        "#     # pad 4 px each side -> random crop 32x32 (equivalent to RandomCrop(pad=4))\n",
        "#     A.PadIfNeeded(min_height=36, min_width=36, border_mode=0, value=None),\n",
        "#     A.RandomCrop(height=32, width=32),\n",
        "\n",
        "#     # spatial\n",
        "#     A.HorizontalFlip(p=0.5),\n",
        "#     A.ShiftScaleRotate(shift_limit=0.0625, scale_limit=0.08, rotate_limit=10, border_mode=0, p=0.5),\n",
        "\n",
        "#     # color / brightness / contrast variations\n",
        "#     A.OneOf([\n",
        "#         A.RandomBrightnessContrast(brightness_limit=0.2, contrast_limit=0.2),\n",
        "#         A.HueSaturationValue(hue_shift_limit=8, sat_shift_limit=10, val_shift_limit=8),\n",
        "#         A.RGBShift(r_shift_limit=10, g_shift_limit=10, b_shift_limit=10),\n",
        "#     ], p=0.8),\n",
        "\n",
        "#     # small blur / noise sometimes\n",
        "#     A.OneOf([A.GaussianBlur(blur_limit=(1,3)), A.GaussNoise(var_limit=(1.0, 10.0))], p=0.25),\n",
        "\n",
        "#     # CoarseDropout as Cutout: smaller holes for CIFAR (use max 6-8 px)\n",
        "#     A.CoarseDropout(max_holes=1, max_height=8, max_width=8,\n",
        "#                     min_holes=1, min_height=8, min_width=8,\n",
        "#                     fill_value=tuple([int(m * 255) for m in CIFAR_MEAN]),\n",
        "#                     p=0.5),\n",
        "\n",
        "#     A.Normalize(mean=CIFAR_MEAN, std=CIFAR_STD),\n",
        "#     ToTensorV2(),\n",
        "# ])\n",
        "\n",
        "train_alb = A.Compose([\n",
        "    A.PadIfNeeded(min_height=40, min_width=40, border_mode=0, value=0, p=1.0),  # Pad first\n",
        "    A.RandomCrop(32, 32, p=1.0),  # Then crop\n",
        "    A.HorizontalFlip(p=0.5),\n",
        "    A.ShiftScaleRotate(shift_limit=0.1, scale_limit=0.15, rotate_limit=15, p=0.5),\n",
        "    A.OneOf([\n",
        "        A.CoarseDropout(\n",
        "            max_holes=1,\n",
        "            max_height=16,\n",
        "            max_width=16,\n",
        "            min_height=8,\n",
        "            min_width=8,\n",
        "            fill_value=tuple([int(x * 255) for x in [0.5071, 0.4867, 0.4408]]),\n",
        "            p=1.0\n",
        "        ),\n",
        "        A.GaussNoise(var_limit=(10.0, 50.0), p=1.0),\n",
        "    ], p=0.3),\n",
        "    A.Normalize((0.5071, 0.4867, 0.4408), (0.2675, 0.2565, 0.2761)),\n",
        "    ToTensorV2(),\n",
        "])\n",
        "\n",
        "# test: only normalize + tensor\n",
        "test_alb = A.Compose([\n",
        "    A.Normalize(mean=CIFAR_MEAN, std=CIFAR_STD),\n",
        "    ToTensorV2(),\n",
        "])\n",
        "\n",
        "# wrapper functions for torchvision CIFAR100 dataset\n",
        "def alb_train_transform(img):\n",
        "    if not isinstance(img, np.ndarray):\n",
        "        img = np.array(img)\n",
        "    return train_alb(image=img)[\"image\"]\n",
        "\n",
        "def alb_test_transform(img):\n",
        "    if not isinstance(img, np.ndarray):\n",
        "        img = np.array(img)\n",
        "    return test_alb(image=img)[\"image\"]\n",
        "\n"
      ]
    },
    {
      "cell_type": "code",
      "execution_count": 137,
      "metadata": {
        "id": "TRawLqCH7p0I"
      },
      "outputs": [],
      "source": [
        "train = datasets.CIFAR100('./data', train=True, download=True, transform=alb_train_transform)\n",
        "test = datasets.CIFAR100('./data', train=False, download=True, transform=alb_test_transform)"
      ]
    },
    {
      "cell_type": "code",
      "execution_count": 137,
      "metadata": {
        "id": "iK8DvS4FSnSa"
      },
      "outputs": [],
      "source": []
    },
    {
      "cell_type": "code",
      "execution_count": 138,
      "metadata": {
        "colab": {
          "base_uri": "https://localhost:8080/"
        },
        "id": "H8PoAAuI7vNO",
        "outputId": "49d0667e-b166-48a5-f461-6a2510238a75"
      },
      "outputs": [
        {
          "output_type": "stream",
          "name": "stdout",
          "text": [
            "CUDA Available? True\n"
          ]
        }
      ],
      "source": [
        "SEED = 1\n",
        "\n",
        "# CUDA?\n",
        "cuda = torch.cuda.is_available()\n",
        "print(\"CUDA Available?\", cuda)\n",
        "\n",
        "# For reproducibility\n",
        "torch.manual_seed(SEED)\n",
        "\n",
        "if cuda:\n",
        "    torch.cuda.manual_seed(SEED)\n",
        "\n",
        "# dataloader arguments - something you'll fetch these from cmdprmt\n",
        "dataloader_args = dict(shuffle=True, batch_size=128, num_workers=4, pin_memory=True) if cuda else dict(shuffle=True, batch_size=64)\n",
        "\n",
        "# train dataloader\n",
        "train_loader = torch.utils.data.DataLoader(train, **dataloader_args)\n",
        "\n",
        "# test dataloader\n",
        "test_loader = torch.utils.data.DataLoader(test, **dataloader_args)"
      ]
    },
    {
      "cell_type": "code",
      "execution_count": 139,
      "metadata": {
        "colab": {
          "base_uri": "https://localhost:8080/",
          "height": 810
        },
        "id": "N8m3tkcbwa_c",
        "outputId": "cfd23f90-8139-4aaf-c4a1-7d162aa0cb4e"
      },
      "outputs": [
        {
          "output_type": "stream",
          "name": "stderr",
          "text": [
            "WARNING:matplotlib.image:Clipping input data to the valid range for imshow with RGB data ([0..1] for floats or [0..255] for integers). Got range [-1.8974658..2.0253532].\n",
            "WARNING:matplotlib.image:Clipping input data to the valid range for imshow with RGB data ([0..1] for floats or [0..255] for integers). Got range [-1.8974658..1.9259292].\n",
            "WARNING:matplotlib.image:Clipping input data to the valid range for imshow with RGB data ([0..1] for floats or [0..255] for integers). Got range [-1.8974658..1.6080557].\n",
            "WARNING:matplotlib.image:Clipping input data to the valid range for imshow with RGB data ([0..1] for floats or [0..255] for integers). Got range [-1.8974658..2.0253532].\n",
            "WARNING:matplotlib.image:Clipping input data to the valid range for imshow with RGB data ([0..1] for floats or [0..255] for integers). Got range [-1.8974658..1.9117258].\n",
            "WARNING:matplotlib.image:Clipping input data to the valid range for imshow with RGB data ([0..1] for floats or [0..255] for integers). Got range [-1.8974658..1.2978864].\n",
            "WARNING:matplotlib.image:Clipping input data to the valid range for imshow with RGB data ([0..1] for floats or [0..255] for integers). Got range [-1.8974658..1.7106762].\n",
            "WARNING:matplotlib.image:Clipping input data to the valid range for imshow with RGB data ([0..1] for floats or [0..255] for integers). Got range [-1.8974658..1.588373].\n",
            "WARNING:matplotlib.image:Clipping input data to the valid range for imshow with RGB data ([0..1] for floats or [0..255] for integers). Got range [-1.8974658..1.8833189].\n",
            "Traceback (most recent call last):\n",
            "  File \"/usr/lib/python3.12/multiprocessing/queues.py\", line 259, in _feed\n",
            "    reader_close()\n",
            "  File \"/usr/lib/python3.12/multiprocessing/connection.py\", line 178, in close\n",
            "    self._close()\n",
            "  File \"/usr/lib/python3.12/multiprocessing/connection.py\", line 377, in _close\n",
            "    _close(self._handle)\n",
            "OSError: [Errno 9] Bad file descriptor\n",
            "WARNING:matplotlib.image:Clipping input data to the valid range for imshow with RGB data ([0..1] for floats or [0..255] for integers). Got range [-1.8974658..1.8265052].\n",
            "WARNING:matplotlib.image:Clipping input data to the valid range for imshow with RGB data ([0..1] for floats or [0..255] for integers). Got range [-1.8974658..1.8833189].\n",
            "WARNING:matplotlib.image:Clipping input data to the valid range for imshow with RGB data ([0..1] for floats or [0..255] for integers). Got range [-1.8974658..1.1535935].\n"
          ]
        },
        {
          "output_type": "display_data",
          "data": {
            "text/plain": [
              "<Figure size 640x480 with 12 Axes>"
            ],
            "image/png": "[encoded data removed]"
          },
          "metadata": {}
        }
      ],
      "source": [
        "import matplotlib.pyplot as plt\n",
        "\n",
        "batch_data, batch_label = next(iter(train_loader))\n",
        "\n",
        "fig = plt.figure()\n",
        "\n",
        "for i in range(12):\n",
        "  plt.subplot(3,4,i+1)\n",
        "  plt.tight_layout()\n",
        "  # plt.imshow(batch_data[i].squeeze(0), cmap='gray')\n",
        "  plt.imshow(batch_data[i].permute(1,2,0))\n",
        "\n",
        "  plt.title(batch_label[i].item())\n",
        "  plt.xticks([])\n",
        "  plt.yticks([])"
      ]
    },
    {
      "cell_type": "code",
      "execution_count": 140,
      "metadata": {
        "id": "gr757vIC7-Rt"
      },
      "outputs": [],
      "source": [
        "import torch\n",
        "import torch.nn as nn\n",
        "import torch.optim as optim\n",
        "from torch.utils.data import DataLoader\n",
        "import torchvision\n",
        "import torchvision.transforms as transforms\n",
        "from torchvision.datasets import CIFAR100\n",
        "from tqdm import tqdm\n",
        "\n",
        "\n",
        "# Bottleneck block (same as before)\n",
        "class Bottleneck(nn.Module):\n",
        " expansion = 4\n",
        "\n",
        " def __init__(self, in_channels, out_channels, stride=1, downsample=None):\n",
        "  super(Bottleneck, self).__init__()\n",
        "  self.conv1 = nn.Conv2d(in_channels, out_channels, kernel_size=1, bias=False)\n",
        "  self.bn1 = nn.BatchNorm2d(out_channels)\n",
        "\n",
        "  self.conv2 = nn.Conv2d(\n",
        "   out_channels, out_channels, kernel_size=3, stride=stride, padding=1, bias=False\n",
        "  )\n",
        "  self.bn2 = nn.BatchNorm2d(out_channels)\n",
        "\n",
        "  self.conv3 = nn.Conv2d(\n",
        "   out_channels, out_channels * self.expansion, kernel_size=1, bias=False\n",
        "  )\n",
        "  self.bn3 = nn.BatchNorm2d(out_channels * self.expansion)\n",
        "\n",
        "  self.relu = nn.ReLU(inplace=True)\n",
        "  self.downsample = downsample\n",
        "\n",
        " def forward(self, x):\n",
        "  identity = x\n",
        "\n",
        "  out = self.conv1(x)\n",
        "  out = self.bn1(out)\n",
        "  out = self.relu(out)\n",
        "\n",
        "  out = self.conv2(out)\n",
        "  out = self.bn2(out)\n",
        "  out = self.relu(out)\n",
        "\n",
        "  out = self.conv3(out)\n",
        "  out = self.bn3(out)\n",
        "\n",
        "  if self.downsample is not None:\n",
        "   identity = self.downsample(x)\n",
        "\n",
        "  out += identity\n",
        "  out = self.relu(out)\n",
        "  return out\n",
        "\n",
        "\n",
        "# ResNet tailored for CIFAR (no initial 7x7 stride-2 conv + no maxpool)\n",
        "class ResNetCIFAR(nn.Module):\n",
        " def __init__(self, block, layers, num_classes=100):\n",
        "  super(ResNetCIFAR, self).__init__()\n",
        "  self.in_channels = 64\n",
        "\n",
        "  # Adjusted first conv for CIFAR (3x3, stride=1)\n",
        "  self.conv1 = nn.Conv2d(3, 64, kernel_size=3, stride=1, padding=1, bias=False)\n",
        "  self.bn1 = nn.BatchNorm2d(64)\n",
        "  self.relu = nn.ReLU(inplace=True)\n",
        "\n",
        "  # NOTE: we do NOT use the 7x7 stride-2 conv or the 3x3 maxpool used for ImageNet\n",
        "  # Stage layers\n",
        "  self.layer1 = self._make_layer(block, 64, layers[0], stride=1)\n",
        "  self.layer2 = self._make_layer(block, 128, layers[1], stride=2)\n",
        "  self.layer3 = self._make_layer(block, 256, layers[2], stride=2)\n",
        "  self.layer4 = self._make_layer(block, 512, layers[3], stride=2)\n",
        "\n",
        "  self.avgpool = nn.AdaptiveAvgPool2d((1, 1))\n",
        "  self.fc = nn.Linear(512 * block.expansion, num_classes)\n",
        "\n",
        "  # Weight initialization\n",
        "  for m in self.modules():\n",
        "   if isinstance(m, nn.Conv2d):\n",
        "    nn.init.kaiming_normal_(m.weight, mode=\"fan_out\", nonlinearity=\"relu\")\n",
        "   elif isinstance(m, nn.BatchNorm2d):\n",
        "    nn.init.constant_(m.weight, 1)\n",
        "    nn.init.constant_(m.bias, 0)\n",
        "\n",
        " def _make_layer(self, block, out_channels, blocks, stride=1):\n",
        "  downsample = None\n",
        "  if stride != 1 or self.in_channels != out_channels * block.expansion:\n",
        "   downsample = nn.Sequential(\n",
        "    nn.Conv2d(\n",
        "     self.in_channels,\n",
        "     out_channels * block.expansion,\n",
        "     kernel_size=1,\n",
        "     stride=stride,\n",
        "     bias=False,\n",
        "    ),\n",
        "    nn.BatchNorm2d(out_channels * block.expansion),\n",
        "   )\n",
        "\n",
        "  layers = []\n",
        "  layers.append(block(self.in_channels, out_channels, stride, downsample))\n",
        "  self.in_channels = out_channels * block.expansion\n",
        "  for _ in range(1, blocks):\n",
        "   layers.append(block(self.in_channels, out_channels))\n",
        "\n",
        "  return nn.Sequential(*layers)\n",
        "\n",
        " def forward(self, x):\n",
        "  x = self.conv1(x)\n",
        "  x = self.bn1(x)\n",
        "  x = self.relu(x)\n",
        "  # no maxpool\n",
        "\n",
        "  x = self.layer1(x)\n",
        "  x = self.layer2(x)\n",
        "  x = self.layer3(x)\n",
        "  x = self.layer4(x)\n",
        "\n",
        "  x = self.avgpool(x)\n",
        "  x = torch.flatten(x, 1)\n",
        "  x = self.fc(x)\n",
        "  return x\n",
        "\n",
        "\n",
        "def resnet50_cifar(num_classes=100):\n",
        " return ResNetCIFAR(Bottleneck, [3, 4, 6, 3], num_classes=num_classes)"
      ]
    },
    {
      "cell_type": "code",
      "execution_count": 141,
      "metadata": {
        "colab": {
          "base_uri": "https://localhost:8080/"
        },
        "id": "Pe9JSzWI8B_v",
        "outputId": "9f8a3c39-df6b-4e26-d9c5-d5d589ad255f"
      },
      "outputs": [
        {
          "output_type": "stream",
          "name": "stdout",
          "text": [
            "Requirement already satisfied: torchsummary in /usr/local/lib/python3.12/dist-packages (1.5.1)\n",
            "cuda\n",
            "----------------------------------------------------------------\n",
            "        Layer (type)               Output Shape         Param #\n",
            "================================================================\n",
            "            Conv2d-1           [-1, 64, 32, 32]           1,728\n",
            "       BatchNorm2d-2           [-1, 64, 32, 32]             128\n",
            "              ReLU-3           [-1, 64, 32, 32]               0\n",
            "            Conv2d-4           [-1, 64, 32, 32]           4,096\n",
            "       BatchNorm2d-5           [-1, 64, 32, 32]             128\n",
            "              ReLU-6           [-1, 64, 32, 32]               0\n",
            "            Conv2d-7           [-1, 64, 32, 32]          36,864\n",
            "       BatchNorm2d-8           [-1, 64, 32, 32]             128\n",
            "              ReLU-9           [-1, 64, 32, 32]               0\n",
            "           Conv2d-10          [-1, 256, 32, 32]          16,384\n",
            "      BatchNorm2d-11          [-1, 256, 32, 32]             512\n",
            "           Conv2d-12          [-1, 256, 32, 32]          16,384\n",
            "      BatchNorm2d-13          [-1, 256, 32, 32]             512\n",
            "             ReLU-14          [-1, 256, 32, 32]               0\n",
            "       Bottleneck-15          [-1, 256, 32, 32]               0\n",
            "           Conv2d-16           [-1, 64, 32, 32]          16,384\n",
            "      BatchNorm2d-17           [-1, 64, 32, 32]             128\n",
            "             ReLU-18           [-1, 64, 32, 32]               0\n",
            "           Conv2d-19           [-1, 64, 32, 32]          36,864\n",
            "      BatchNorm2d-20           [-1, 64, 32, 32]             128\n",
            "             ReLU-21           [-1, 64, 32, 32]               0\n",
            "           Conv2d-22          [-1, 256, 32, 32]          16,384\n",
            "      BatchNorm2d-23          [-1, 256, 32, 32]             512\n",
            "             ReLU-24          [-1, 256, 32, 32]               0\n",
            "       Bottleneck-25          [-1, 256, 32, 32]               0\n",
            "           Conv2d-26           [-1, 64, 32, 32]          16,384\n",
            "      BatchNorm2d-27           [-1, 64, 32, 32]             128\n",
            "             ReLU-28           [-1, 64, 32, 32]               0\n",
            "           Conv2d-29           [-1, 64, 32, 32]          36,864\n",
            "      BatchNorm2d-30           [-1, 64, 32, 32]             128\n",
            "             ReLU-31           [-1, 64, 32, 32]               0\n",
            "           Conv2d-32          [-1, 256, 32, 32]          16,384\n",
            "      BatchNorm2d-33          [-1, 256, 32, 32]             512\n",
            "             ReLU-34          [-1, 256, 32, 32]               0\n",
            "       Bottleneck-35          [-1, 256, 32, 32]               0\n",
            "           Conv2d-36          [-1, 128, 32, 32]          32,768\n",
            "      BatchNorm2d-37          [-1, 128, 32, 32]             256\n",
            "             ReLU-38          [-1, 128, 32, 32]               0\n",
            "           Conv2d-39          [-1, 128, 16, 16]         147,456\n",
            "      BatchNorm2d-40          [-1, 128, 16, 16]             256\n",
            "             ReLU-41          [-1, 128, 16, 16]               0\n",
            "           Conv2d-42          [-1, 512, 16, 16]          65,536\n",
            "      BatchNorm2d-43          [-1, 512, 16, 16]           1,024\n",
            "           Conv2d-44          [-1, 512, 16, 16]         131,072\n",
            "      BatchNorm2d-45          [-1, 512, 16, 16]           1,024\n",
            "             ReLU-46          [-1, 512, 16, 16]               0\n",
            "       Bottleneck-47          [-1, 512, 16, 16]               0\n",
            "           Conv2d-48          [-1, 128, 16, 16]          65,536\n",
            "      BatchNorm2d-49          [-1, 128, 16, 16]             256\n",
            "             ReLU-50          [-1, 128, 16, 16]               0\n",
            "           Conv2d-51          [-1, 128, 16, 16]         147,456\n",
            "      BatchNorm2d-52          [-1, 128, 16, 16]             256\n",
            "             ReLU-53          [-1, 128, 16, 16]               0\n",
            "           Conv2d-54          [-1, 512, 16, 16]          65,536\n",
            "      BatchNorm2d-55          [-1, 512, 16, 16]           1,024\n",
            "             ReLU-56          [-1, 512, 16, 16]               0\n",
            "       Bottleneck-57          [-1, 512, 16, 16]               0\n",
            "           Conv2d-58          [-1, 128, 16, 16]          65,536\n",
            "      BatchNorm2d-59          [-1, 128, 16, 16]             256\n",
            "             ReLU-60          [-1, 128, 16, 16]               0\n",
            "           Conv2d-61          [-1, 128, 16, 16]         147,456\n",
            "      BatchNorm2d-62          [-1, 128, 16, 16]             256\n",
            "             ReLU-63          [-1, 128, 16, 16]               0\n",
            "           Conv2d-64          [-1, 512, 16, 16]          65,536\n",
            "      BatchNorm2d-65          [-1, 512, 16, 16]           1,024\n",
            "             ReLU-66          [-1, 512, 16, 16]               0\n",
            "       Bottleneck-67          [-1, 512, 16, 16]               0\n",
            "           Conv2d-68          [-1, 128, 16, 16]          65,536\n",
            "      BatchNorm2d-69          [-1, 128, 16, 16]             256\n",
            "             ReLU-70          [-1, 128, 16, 16]               0\n",
            "           Conv2d-71          [-1, 128, 16, 16]         147,456\n",
            "      BatchNorm2d-72          [-1, 128, 16, 16]             256\n",
            "             ReLU-73          [-1, 128, 16, 16]               0\n",
            "           Conv2d-74          [-1, 512, 16, 16]          65,536\n",
            "      BatchNorm2d-75          [-1, 512, 16, 16]           1,024\n",
            "             ReLU-76          [-1, 512, 16, 16]               0\n",
            "       Bottleneck-77          [-1, 512, 16, 16]               0\n",
            "           Conv2d-78          [-1, 256, 16, 16]         131,072\n",
            "      BatchNorm2d-79          [-1, 256, 16, 16]             512\n",
            "             ReLU-80          [-1, 256, 16, 16]               0\n",
            "           Conv2d-81            [-1, 256, 8, 8]         589,824\n",
            "      BatchNorm2d-82            [-1, 256, 8, 8]             512\n",
            "             ReLU-83            [-1, 256, 8, 8]               0\n",
            "           Conv2d-84           [-1, 1024, 8, 8]         262,144\n",
            "      BatchNorm2d-85           [-1, 1024, 8, 8]           2,048\n",
            "           Conv2d-86           [-1, 1024, 8, 8]         524,288\n",
            "      BatchNorm2d-87           [-1, 1024, 8, 8]           2,048\n",
            "             ReLU-88           [-1, 1024, 8, 8]               0\n",
            "       Bottleneck-89           [-1, 1024, 8, 8]               0\n",
            "           Conv2d-90            [-1, 256, 8, 8]         262,144\n",
            "      BatchNorm2d-91            [-1, 256, 8, 8]             512\n",
            "             ReLU-92            [-1, 256, 8, 8]               0\n",
            "           Conv2d-93            [-1, 256, 8, 8]         589,824\n",
            "      BatchNorm2d-94            [-1, 256, 8, 8]             512\n",
            "             ReLU-95            [-1, 256, 8, 8]               0\n",
            "           Conv2d-96           [-1, 1024, 8, 8]         262,144\n",
            "      BatchNorm2d-97           [-1, 1024, 8, 8]           2,048\n",
            "             ReLU-98           [-1, 1024, 8, 8]               0\n",
            "       Bottleneck-99           [-1, 1024, 8, 8]               0\n",
            "          Conv2d-100            [-1, 256, 8, 8]         262,144\n",
            "     BatchNorm2d-101            [-1, 256, 8, 8]             512\n",
            "            ReLU-102            [-1, 256, 8, 8]               0\n",
            "          Conv2d-103            [-1, 256, 8, 8]         589,824\n",
            "     BatchNorm2d-104            [-1, 256, 8, 8]             512\n",
            "            ReLU-105            [-1, 256, 8, 8]               0\n",
            "          Conv2d-106           [-1, 1024, 8, 8]         262,144\n",
            "     BatchNorm2d-107           [-1, 1024, 8, 8]           2,048\n",
            "            ReLU-108           [-1, 1024, 8, 8]               0\n",
            "      Bottleneck-109           [-1, 1024, 8, 8]               0\n",
            "          Conv2d-110            [-1, 256, 8, 8]         262,144\n",
            "     BatchNorm2d-111            [-1, 256, 8, 8]             512\n",
            "            ReLU-112            [-1, 256, 8, 8]               0\n",
            "          Conv2d-113            [-1, 256, 8, 8]         589,824\n",
            "     BatchNorm2d-114            [-1, 256, 8, 8]             512\n",
            "            ReLU-115            [-1, 256, 8, 8]               0\n",
            "          Conv2d-116           [-1, 1024, 8, 8]         262,144\n",
            "     BatchNorm2d-117           [-1, 1024, 8, 8]           2,048\n",
            "            ReLU-118           [-1, 1024, 8, 8]               0\n",
            "      Bottleneck-119           [-1, 1024, 8, 8]               0\n",
            "          Conv2d-120            [-1, 256, 8, 8]         262,144\n",
            "     BatchNorm2d-121            [-1, 256, 8, 8]             512\n",
            "            ReLU-122            [-1, 256, 8, 8]               0\n",
            "          Conv2d-123            [-1, 256, 8, 8]         589,824\n",
            "     BatchNorm2d-124            [-1, 256, 8, 8]             512\n",
            "            ReLU-125            [-1, 256, 8, 8]               0\n",
            "          Conv2d-126           [-1, 1024, 8, 8]         262,144\n",
            "     BatchNorm2d-127           [-1, 1024, 8, 8]           2,048\n",
            "            ReLU-128           [-1, 1024, 8, 8]               0\n",
            "      Bottleneck-129           [-1, 1024, 8, 8]               0\n",
            "          Conv2d-130            [-1, 256, 8, 8]         262,144\n",
            "     BatchNorm2d-131            [-1, 256, 8, 8]             512\n",
            "            ReLU-132            [-1, 256, 8, 8]               0\n",
            "          Conv2d-133            [-1, 256, 8, 8]         589,824\n",
            "     BatchNorm2d-134            [-1, 256, 8, 8]             512\n",
            "            ReLU-135            [-1, 256, 8, 8]               0\n",
            "          Conv2d-136           [-1, 1024, 8, 8]         262,144\n",
            "     BatchNorm2d-137           [-1, 1024, 8, 8]           2,048\n",
            "            ReLU-138           [-1, 1024, 8, 8]               0\n",
            "      Bottleneck-139           [-1, 1024, 8, 8]               0\n",
            "          Conv2d-140            [-1, 512, 8, 8]         524,288\n",
            "     BatchNorm2d-141            [-1, 512, 8, 8]           1,024\n",
            "            ReLU-142            [-1, 512, 8, 8]               0\n",
            "          Conv2d-143            [-1, 512, 4, 4]       2,359,296\n",
            "     BatchNorm2d-144            [-1, 512, 4, 4]           1,024\n",
            "            ReLU-145            [-1, 512, 4, 4]               0\n",
            "          Conv2d-146           [-1, 2048, 4, 4]       1,048,576\n",
            "     BatchNorm2d-147           [-1, 2048, 4, 4]           4,096\n",
            "          Conv2d-148           [-1, 2048, 4, 4]       2,097,152\n",
            "     BatchNorm2d-149           [-1, 2048, 4, 4]           4,096\n",
            "            ReLU-150           [-1, 2048, 4, 4]               0\n",
            "      Bottleneck-151           [-1, 2048, 4, 4]               0\n",
            "          Conv2d-152            [-1, 512, 4, 4]       1,048,576\n",
            "     BatchNorm2d-153            [-1, 512, 4, 4]           1,024\n",
            "            ReLU-154            [-1, 512, 4, 4]               0\n",
            "          Conv2d-155            [-1, 512, 4, 4]       2,359,296\n",
            "     BatchNorm2d-156            [-1, 512, 4, 4]           1,024\n",
            "            ReLU-157            [-1, 512, 4, 4]               0\n",
            "          Conv2d-158           [-1, 2048, 4, 4]       1,048,576\n",
            "     BatchNorm2d-159           [-1, 2048, 4, 4]           4,096\n",
            "            ReLU-160           [-1, 2048, 4, 4]               0\n",
            "      Bottleneck-161           [-1, 2048, 4, 4]               0\n",
            "          Conv2d-162            [-1, 512, 4, 4]       1,048,576\n",
            "     BatchNorm2d-163            [-1, 512, 4, 4]           1,024\n",
            "            ReLU-164            [-1, 512, 4, 4]               0\n",
            "          Conv2d-165            [-1, 512, 4, 4]       2,359,296\n",
            "     BatchNorm2d-166            [-1, 512, 4, 4]           1,024\n",
            "            ReLU-167            [-1, 512, 4, 4]               0\n",
            "          Conv2d-168           [-1, 2048, 4, 4]       1,048,576\n",
            "     BatchNorm2d-169           [-1, 2048, 4, 4]           4,096\n",
            "            ReLU-170           [-1, 2048, 4, 4]               0\n",
            "      Bottleneck-171           [-1, 2048, 4, 4]               0\n",
            "AdaptiveAvgPool2d-172           [-1, 2048, 1, 1]               0\n",
            "          Linear-173                  [-1, 100]         204,900\n",
            "================================================================\n",
            "Total params: 23,705,252\n",
            "Trainable params: 23,705,252\n",
            "Non-trainable params: 0\n",
            "----------------------------------------------------------------\n",
            "Input size (MB): 0.01\n",
            "Forward/backward pass size (MB): 88.58\n",
            "Params size (MB): 90.43\n",
            "Estimated Total Size (MB): 179.02\n",
            "----------------------------------------------------------------\n"
          ]
        }
      ],
      "source": [
        "!pip install torchsummary\n",
        "from torchsummary import summary\n",
        "use_cuda = torch.cuda.is_available()\n",
        "device = torch.device(\"cuda\" if use_cuda else \"cpu\")\n",
        "print(device)\n",
        "model = resnet50_cifar().to(device)\n",
        "summary(model, input_size=(3, 32, 32))"
      ]
    },
    {
      "cell_type": "code",
      "source": [
        "import torch\n",
        "\n",
        "def topk_accuracy(output, target, k=5):\n",
        "    \"\"\"\n",
        "    Calculates the top-k accuracy for a given output and target.\n",
        "\n",
        "    Args:\n",
        "        output (torch.Tensor): The model's raw output logits, typically from the last layer.\n",
        "        target (torch.Tensor): The ground-truth labels.\n",
        "        k (int): The number of top predictions to consider.\n",
        "\n",
        "    Returns:\n",
        "        float: The top-k accuracy.\n",
        "    \"\"\"\n",
        "    with torch.no_grad():\n",
        "        # Get the top k predictions\n",
        "        _, topk_preds = output.topk(k, dim=1, largest=True, sorted=True)\n",
        "\n",
        "        # Reshape the target tensor for comparison\n",
        "        target_reshaped = target.view(1, -1).expand_as(topk_preds)\n",
        "\n",
        "        # Check if any of the top k predictions match the true label\n",
        "        correct = (topk_preds == target_reshaped)\n",
        "\n",
        "        # Calculate the number of correct predictions\n",
        "        correct_count = correct.any(dim=0).sum().item()\n",
        "\n",
        "        # Return the accuracy as a percentage\n",
        "        return (correct_count / target.size(0))\n"
      ],
      "metadata": {
        "id": "Om5ZmGWrph3g"
      },
      "execution_count": 142,
      "outputs": []
    },
    {
      "cell_type": "code",
      "execution_count": 143,
      "metadata": {
        "id": "imHnmYf6RccL"
      },
      "outputs": [],
      "source": [
        "\n",
        "model = resnet50_cifar().to(device)\n",
        "# optimizer = optim.SGD(model.parameters(), lr=0.1, momentum=0.9)\n",
        "# scheduler = torch.optim.lr_scheduler.StepLR(optimizer, step_size=40, gamma=0.1) ## Learning: adjust LR to a smaller value after every 5 epochs for fine tuning\n",
        "# optimizer = optim.Adam(model.parameters(), lr=0.005)\n",
        "# scheduler = optim.lr_scheduler.CosineAnnealingLR(optimizer, T_max=100)\n",
        "optimizer = optim.Adam(model.parameters(), lr=0.001)\n",
        "scheduler = optim.lr_scheduler.CosineAnnealingLR(optimizer, T_max=50)"
      ]
    },
    {
      "cell_type": "code",
      "execution_count": 144,
      "metadata": {
        "id": "x-ia4Qeg8rOD"
      },
      "outputs": [],
      "source": [
        "from tqdm import tqdm\n",
        "import torch\n",
        "import torch.nn.functional as F\n",
        "\n",
        "train_losses = []\n",
        "test_losses = []\n",
        "train_acc = []\n",
        "test_acc = []\n",
        "test_top5_acc = [] # New list to store top-5 accuracy\n",
        "\n",
        "def train(model, device, train_loader, optimizer, epoch):\n",
        "    model.train()\n",
        "    pbar = tqdm(train_loader)\n",
        "    correct = 0\n",
        "    processed = 0\n",
        "    for batch_idx, (data, target) in enumerate(pbar):\n",
        "        data, target = data.to(device), target.to(device)\n",
        "\n",
        "        optimizer.zero_grad()\n",
        "        y_pred = model(data)\n",
        "        loss = F.cross_entropy(y_pred, target)\n",
        "        train_losses.append(loss.item())\n",
        "\n",
        "        loss.backward()\n",
        "        optimizer.step()\n",
        "\n",
        "        pred = y_pred.argmax(dim=1, keepdim=True)\n",
        "        correct += pred.eq(target.view_as(pred)).sum().item()\n",
        "        processed += len(data)\n",
        "\n",
        "        pbar.set_description(desc=f'Loss={loss.item():.4f} Batch_id={batch_idx} Accuracy={100*correct/processed:.2f}%')\n",
        "        train_acc.append(100*correct/processed)\n",
        "\n",
        "    # Note: The learning rate scheduler should be called at the end of the epoch,\n",
        "    # as is standard practice.\n",
        "    # scheduler.step()\n",
        "\n",
        "def test(model, device, test_loader):\n",
        "    model.eval()\n",
        "    test_loss = 0\n",
        "    correct = 0\n",
        "    correct_top1 = 0\n",
        "    correct_top5 = 0\n",
        "    with torch.no_grad():\n",
        "        for data, target in test_loader:\n",
        "            data, target = data.to(device), target.to(device)\n",
        "            output = model(data)\n",
        "            test_loss += F.cross_entropy(output, target, reduction='sum').item()\n",
        "\n",
        "            # Top-1 accuracy calculation\n",
        "            pred_top1 = output.argmax(dim=1, keepdim=True)\n",
        "            correct_top1 += pred_top1.eq(target.view_as(pred_top1)).sum().item()\n",
        "\n",
        "            # Top-5 accuracy calculation\n",
        "            # correct_top5 += topk_accuracy(output, target, k=5)\n",
        "\n",
        "    test_loss /= len(test_loader.dataset)\n",
        "    test_losses.append(test_loss)\n",
        "\n",
        "    top1_acc = 100. * correct_top1 / len(test_loader.dataset)\n",
        "    # top5_acc = 100. * correct_top5 / len(test_loader.dataset)\n",
        "\n",
        "    print(f'\\nTest set: Average loss: {test_loss:.4f} ,Top-1 Accuracy: {correct_top1}/{len(test_loader.dataset)} ({top1_acc:.2f}%)%\\n')\n",
        "\n",
        "    test_acc.append(top1_acc)\n",
        "    # test_top5_acc.append(top5_acc)\n"
      ]
    },
    {
      "cell_type": "code",
      "execution_count": 145,
      "metadata": {
        "id": "KP6zxmOEaOvv"
      },
      "outputs": [],
      "source": [
        "# import torch\n",
        "# import torch.nn as nn\n",
        "# import torch.nn.functional as F\n",
        "# import torch.optim as optim\n",
        "# from torch.utils.data import DataLoader\n",
        "# import torchvision\n",
        "# import torchvision.transforms as transforms\n",
        "# from torchvision.datasets import CIFAR100\n",
        "# from tqdm import tqdm\n",
        "# import matplotlib.pyplot as plt\n",
        "# import numpy as np\n",
        "\n",
        "# # --- (Your model classes: Bottleneck, ResNetCIFAR, resnet50_cifar) ---\n",
        "# # Paste your model code here or ensure it's in the same scope.\n",
        "\n",
        "# def lr_finder(model, device, train_loader, optimizer, criterion, start_lr, end_lr, num_iter):\n",
        "#     # Save the initial state of the model and optimizer\n",
        "#     initial_model_state = model.state_dict()\n",
        "#     initial_optimizer_state = optimizer.state_dict()\n",
        "\n",
        "#     # Create a temporary scheduler\n",
        "#     lr_lambda = lambda iteration: (end_lr / start_lr)**(iteration / num_iter)\n",
        "#     scheduler = optim.lr_scheduler.LambdaLR(optimizer, lr_lambda)\n",
        "\n",
        "#     # Move model to device and set to training mode\n",
        "#     model.to(device)\n",
        "#     model.train()\n",
        "\n",
        "#     lrs = []\n",
        "#     losses = []\n",
        "\n",
        "#     # Start with a very low learning rate\n",
        "#     for param_group in optimizer.param_groups:\n",
        "#         param_group['lr'] = start_lr\n",
        "\n",
        "#     # Begin the LR search\n",
        "#     pbar = tqdm(enumerate(train_loader), total=num_iter)\n",
        "#     for batch_idx, (data, target) in pbar:\n",
        "#         if batch_idx >= num_iter:\n",
        "#             break\n",
        "\n",
        "#         # Get samples and move to device\n",
        "#         data, target = data.to(device), target.to(device)\n",
        "\n",
        "#         # Zero gradients\n",
        "#         optimizer.zero_grad()\n",
        "\n",
        "#         # Predict and calculate loss\n",
        "#         y_pred = model(data)\n",
        "#         loss = criterion(y_pred, target)\n",
        "\n",
        "#         # Backpropagation\n",
        "#         loss.backward()\n",
        "#         optimizer.step()\n",
        "\n",
        "#         # --- FIX: Access the learning rate correctly ---\n",
        "#         # The optimizer.param_groups is a list, so indexing with an integer is necessary.\n",
        "#         lrs.append(optimizer.param_groups[0]['lr'])\n",
        "#         losses.append(loss.item())\n",
        "\n",
        "#         # Step the scheduler to increase LR\n",
        "#         scheduler.step()\n",
        "\n",
        "#         # Update progress bar\n",
        "#         pbar.set_description(desc=f'LR: {lrs[-1]:.6f}, Loss: {losses[-1]:.4f}')\n",
        "\n",
        "#     # Reset model and optimizer to their initial states\n",
        "#     model.load_state_dict(initial_model_state)\n",
        "#     optimizer.load_state_dict(initial_optimizer_state)\n",
        "\n",
        "#     return lrs, losses\n",
        "\n",
        "# def plot_lr_finder(lrs, losses, skip_start=10, skip_end=5):\n",
        "#     # Smooth the loss curve\n",
        "#     smoothed_losses = []\n",
        "#     for i in range(len(losses)):\n",
        "#         smoothed_losses.append(np.mean(losses[max(0, i - 10):i + 1]))\n",
        "\n",
        "#     # Plot the results\n",
        "#     plt.figure(figsize=(10, 6))\n",
        "#     plt.plot(lrs[skip_start:-skip_end], smoothed_losses[skip_start:-skip_end])\n",
        "#     plt.xscale('log')\n",
        "#     plt.xlabel('Learning Rate (log scale)')\n",
        "#     plt.ylabel('Loss')\n",
        "#     plt.title('Learning Rate Finder')\n",
        "#     plt.grid(True)\n",
        "#     plt.show()\n",
        "\n",
        "\n",
        "# if __name__ == '__main__':\n",
        "#     # 1. Device configuration\n",
        "#     device = torch.device(\"cuda\" if torch.cuda.is_available() else \"cpu\")\n",
        "\n",
        "#     # 3. Model, Loss, and Adam Optimizer\n",
        "#     criterion = nn.CrossEntropyLoss()\n",
        "#     optimizer = optim.Adam(model.parameters(), lr=1e-7)\n",
        "\n",
        "#     # 4. Run the LR Finder test\n",
        "#     start_lr = 1e-7\n",
        "#     end_lr = 1e-1\n",
        "#     num_iter = 300\n",
        "\n",
        "#     print(\"Starting LR Finder...\")\n",
        "#     lrs, losses = lr_finder(model, device, train_loader, optimizer, criterion, start_lr, end_lr, num_iter)\n",
        "#     print(\"LR Finder finished.\")\n",
        "\n",
        "#     # 5. Plot and suggest LR\n",
        "#     plot_lr_finder(lrs, losses\n"
      ]
    },
    {
      "cell_type": "code",
      "execution_count": 146,
      "metadata": {
        "colab": {
          "base_uri": "https://localhost:8080/",
          "height": 1000
        },
        "id": "5vSFWk6-8vk2",
        "outputId": "4a9767d2-2715-4d7e-c3f2-d6926222f952"
      },
      "outputs": [
        {
          "metadata": {
            "tags": null
          },
          "name": "stdout",
          "output_type": "stream",
          "text": [
            "EPOCH: 1\n"
          ]
        },
        {
          "metadata": {
            "tags": null
          },
          "name": "stderr",
          "output_type": "stream",
          "text": [
            "Loss=3.9321 Batch_id=390 Accuracy=6.70%: 100%|██████████| 391/391 [02:38<00:00,  2.46it/s]\n"
          ]
        },
        {
          "metadata": {
            "tags": null
          },
          "name": "stdout",
          "output_type": "stream",
          "text": [
            "\n",
            "Test set: Average loss: 23.9258 ,Top-1 Accuracy: 936/10000 (9.36%)%\n",
            "\n",
            "EPOCH: 2\n"
          ]
        },
        {
          "metadata": {
            "tags": null
          },
          "name": "stderr",
          "output_type": "stream",
          "text": [
            "Loss=3.1624 Batch_id=390 Accuracy=14.76%: 100%|██████████| 391/391 [02:37<00:00,  2.48it/s]\n"
          ]
        },
        {
          "metadata": {
            "tags": null
          },
          "name": "stdout",
          "output_type": "stream",
          "text": [
            "\n",
            "Test set: Average loss: 3.4850 ,Top-1 Accuracy: 1810/10000 (18.10%)%\n",
            "\n",
            "EPOCH: 3\n"
          ]
        },
        {
          "metadata": {
            "tags": null
          },
          "name": "stderr",
          "output_type": "stream",
          "text": [
            "Loss=2.7384 Batch_id=390 Accuracy=21.92%: 100%|██████████| 391/391 [02:38<00:00,  2.47it/s]\n"
          ]
        },
        {
          "metadata": {
            "tags": null
          },
          "name": "stdout",
          "output_type": "stream",
          "text": [
            "\n",
            "Test set: Average loss: 2.9600 ,Top-1 Accuracy: 2743/10000 (27.43%)%\n",
            "\n",
            "EPOCH: 4\n"
          ]
        },
        {
          "metadata": {
            "tags": null
          },
          "name": "stderr",
          "output_type": "stream",
          "text": [
            "Loss=2.4910 Batch_id=390 Accuracy=28.83%: 100%|██████████| 391/391 [02:38<00:00,  2.47it/s]\n"
          ]
        },
        {
          "metadata": {
            "tags": null
          },
          "name": "stdout",
          "output_type": "stream",
          "text": [
            "\n",
            "Test set: Average loss: 2.5775 ,Top-1 Accuracy: 3406/10000 (34.06%)%\n",
            "\n",
            "EPOCH: 5\n"
          ]
        },
        {
          "metadata": {
            "tags": null
          },
          "name": "stderr",
          "output_type": "stream",
          "text": [
            "Loss=2.4860 Batch_id=390 Accuracy=34.39%: 100%|██████████| 391/391 [02:38<00:00,  2.47it/s]\n"
          ]
        },
        {
          "metadata": {
            "tags": null
          },
          "name": "stdout",
          "output_type": "stream",
          "text": [
            "\n",
            "Test set: Average loss: 2.3791 ,Top-1 Accuracy: 3867/10000 (38.67%)%\n",
            "\n",
            "EPOCH: 6\n"
          ]
        },
        {
          "metadata": {
            "tags": null
          },
          "name": "stderr",
          "output_type": "stream",
          "text": [
            "Loss=2.7651 Batch_id=390 Accuracy=38.55%: 100%|██████████| 391/391 [02:38<00:00,  2.47it/s]\n"
          ]
        },
        {
          "metadata": {
            "tags": null
          },
          "name": "stdout",
          "output_type": "stream",
          "text": [
            "\n",
            "Test set: Average loss: 2.1087 ,Top-1 Accuracy: 4292/10000 (42.92%)%\n",
            "\n",
            "EPOCH: 7\n"
          ]
        },
        {
          "metadata": {
            "tags": null
          },
          "name": "stderr",
          "output_type": "stream",
          "text": [
            "Loss=1.9039 Batch_id=390 Accuracy=42.83%: 100%|██████████| 391/391 [02:37<00:00,  2.48it/s]\n"
          ]
        },
        {
          "metadata": {
            "tags": null
          },
          "name": "stdout",
          "output_type": "stream",
          "text": [
            "\n",
            "Test set: Average loss: 2.1089 ,Top-1 Accuracy: 4527/10000 (45.27%)%\n",
            "\n",
            "EPOCH: 8\n"
          ]
        },
        {
          "metadata": {
            "tags": null
          },
          "name": "stderr",
          "output_type": "stream",
          "text": [
            "Loss=1.7541 Batch_id=390 Accuracy=46.06%: 100%|██████████| 391/391 [02:37<00:00,  2.48it/s]\n"
          ]
        },
        {
          "metadata": {
            "tags": null
          },
          "name": "stdout",
          "output_type": "stream",
          "text": [
            "\n",
            "Test set: Average loss: 1.8808 ,Top-1 Accuracy: 4882/10000 (48.82%)%\n",
            "\n",
            "EPOCH: 9\n"
          ]
        },
        {
          "metadata": {
            "tags": null
          },
          "name": "stderr",
          "output_type": "stream",
          "text": [
            "Loss=1.6534 Batch_id=390 Accuracy=48.70%: 100%|██████████| 391/391 [02:37<00:00,  2.48it/s]\n"
          ]
        },
        {
          "metadata": {
            "tags": null
          },
          "name": "stdout",
          "output_type": "stream",
          "text": [
            "\n",
            "Test set: Average loss: 1.7559 ,Top-1 Accuracy: 5154/10000 (51.54%)%\n",
            "\n",
            "EPOCH: 10\n"
          ]
        },
        {
          "metadata": {
            "tags": null
          },
          "name": "stderr",
          "output_type": "stream",
          "text": [
            "Loss=1.7156 Batch_id=390 Accuracy=51.57%: 100%|██████████| 391/391 [02:37<00:00,  2.48it/s]\n"
          ]
        },
        {
          "metadata": {
            "tags": null
          },
          "name": "stdout",
          "output_type": "stream",
          "text": [
            "\n",
            "Test set: Average loss: 1.7418 ,Top-1 Accuracy: 5420/10000 (54.20%)%\n",
            "\n",
            "EPOCH: 11\n"
          ]
        },
        {
          "output_type": "stream",
          "name": "stderr",
          "text": [
            "Loss=1.3732 Batch_id=390 Accuracy=53.27%: 100%|██████████| 391/391 [02:38<00:00,  2.47it/s]\n"
          ]
        },
        {
          "output_type": "stream",
          "name": "stdout",
          "text": [
            "\n",
            "Test set: Average loss: 2.4508 ,Top-1 Accuracy: 5533/10000 (55.33%)%\n",
            "\n",
            "EPOCH: 12\n"
          ]
        },
        {
          "output_type": "stream",
          "name": "stderr",
          "text": [
            "Loss=1.4093 Batch_id=390 Accuracy=55.86%: 100%|██████████| 391/391 [02:37<00:00,  2.48it/s]\n"
          ]
        },
        {
          "output_type": "stream",
          "name": "stdout",
          "text": [
            "\n",
            "Test set: Average loss: 3.2151 ,Top-1 Accuracy: 5742/10000 (57.42%)%\n",
            "\n",
            "EPOCH: 13\n"
          ]
        },
        {
          "output_type": "stream",
          "name": "stderr",
          "text": [
            "Loss=1.4854 Batch_id=390 Accuracy=57.96%: 100%|██████████| 391/391 [02:38<00:00,  2.47it/s]\n"
          ]
        },
        {
          "output_type": "stream",
          "name": "stdout",
          "text": [
            "\n",
            "Test set: Average loss: 1.4861 ,Top-1 Accuracy: 5950/10000 (59.50%)%\n",
            "\n",
            "EPOCH: 14\n"
          ]
        },
        {
          "output_type": "stream",
          "name": "stderr",
          "text": [
            "Loss=1.2455 Batch_id=390 Accuracy=59.80%: 100%|██████████| 391/391 [02:37<00:00,  2.48it/s]\n"
          ]
        },
        {
          "output_type": "stream",
          "name": "stdout",
          "text": [
            "\n",
            "Test set: Average loss: 1.5134 ,Top-1 Accuracy: 5969/10000 (59.69%)%\n",
            "\n",
            "EPOCH: 15\n"
          ]
        },
        {
          "output_type": "stream",
          "name": "stderr",
          "text": [
            "Loss=1.3357 Batch_id=390 Accuracy=61.18%: 100%|██████████| 391/391 [02:37<00:00,  2.48it/s]\n"
          ]
        },
        {
          "output_type": "stream",
          "name": "stdout",
          "text": [
            "\n",
            "Test set: Average loss: 1.3929 ,Top-1 Accuracy: 6139/10000 (61.39%)%\n",
            "\n",
            "EPOCH: 16\n"
          ]
        },
        {
          "output_type": "stream",
          "name": "stderr",
          "text": [
            "Loss=1.0888 Batch_id=390 Accuracy=62.75%: 100%|██████████| 391/391 [02:37<00:00,  2.48it/s]\n"
          ]
        },
        {
          "output_type": "stream",
          "name": "stdout",
          "text": [
            "\n",
            "Test set: Average loss: 1.4104 ,Top-1 Accuracy: 6164/10000 (61.64%)%\n",
            "\n",
            "EPOCH: 17\n"
          ]
        },
        {
          "output_type": "stream",
          "name": "stderr",
          "text": [
            "Loss=1.2390 Batch_id=390 Accuracy=63.55%: 100%|██████████| 391/391 [02:37<00:00,  2.48it/s]\n"
          ]
        },
        {
          "output_type": "stream",
          "name": "stdout",
          "text": [
            "\n",
            "Test set: Average loss: 1.4149 ,Top-1 Accuracy: 6174/10000 (61.74%)%\n",
            "\n",
            "EPOCH: 18\n"
          ]
        },
        {
          "output_type": "stream",
          "name": "stderr",
          "text": [
            "Loss=1.0990 Batch_id=390 Accuracy=65.28%: 100%|██████████| 391/391 [02:37<00:00,  2.48it/s]\n"
          ]
        },
        {
          "output_type": "stream",
          "name": "stdout",
          "text": [
            "\n",
            "Test set: Average loss: 1.3800 ,Top-1 Accuracy: 6327/10000 (63.27%)%\n",
            "\n",
            "EPOCH: 19\n"
          ]
        },
        {
          "output_type": "stream",
          "name": "stderr",
          "text": [
            "Loss=1.1826 Batch_id=390 Accuracy=66.75%: 100%|██████████| 391/391 [02:37<00:00,  2.48it/s]\n"
          ]
        },
        {
          "output_type": "stream",
          "name": "stdout",
          "text": [
            "\n",
            "Test set: Average loss: 1.3102 ,Top-1 Accuracy: 6452/10000 (64.52%)%\n",
            "\n",
            "EPOCH: 20\n"
          ]
        },
        {
          "output_type": "stream",
          "name": "stderr",
          "text": [
            "Loss=0.9868 Batch_id=390 Accuracy=68.02%: 100%|██████████| 391/391 [02:38<00:00,  2.47it/s]\n"
          ]
        },
        {
          "output_type": "stream",
          "name": "stdout",
          "text": [
            "\n",
            "Test set: Average loss: 1.3159 ,Top-1 Accuracy: 6568/10000 (65.68%)%\n",
            "\n",
            "EPOCH: 21\n"
          ]
        },
        {
          "output_type": "stream",
          "name": "stderr",
          "text": [
            "Loss=1.3704 Batch_id=390 Accuracy=69.29%: 100%|██████████| 391/391 [02:37<00:00,  2.47it/s]\n"
          ]
        },
        {
          "output_type": "stream",
          "name": "stdout",
          "text": [
            "\n",
            "Test set: Average loss: 1.3313 ,Top-1 Accuracy: 6492/10000 (64.92%)%\n",
            "\n",
            "EPOCH: 22\n"
          ]
        },
        {
          "output_type": "stream",
          "name": "stderr",
          "text": [
            "Loss=0.7927 Batch_id=390 Accuracy=70.63%: 100%|██████████| 391/391 [02:38<00:00,  2.47it/s]\n"
          ]
        },
        {
          "output_type": "stream",
          "name": "stdout",
          "text": [
            "\n",
            "Test set: Average loss: 1.2949 ,Top-1 Accuracy: 6601/10000 (66.01%)%\n",
            "\n",
            "EPOCH: 23\n"
          ]
        },
        {
          "output_type": "stream",
          "name": "stderr",
          "text": [
            "Loss=0.9818 Batch_id=390 Accuracy=71.96%: 100%|██████████| 391/391 [02:37<00:00,  2.48it/s]\n"
          ]
        },
        {
          "output_type": "stream",
          "name": "stdout",
          "text": [
            "\n",
            "Test set: Average loss: 1.3043 ,Top-1 Accuracy: 6713/10000 (67.13%)%\n",
            "\n",
            "EPOCH: 24\n"
          ]
        },
        {
          "output_type": "stream",
          "name": "stderr",
          "text": [
            "Loss=1.0825 Batch_id=390 Accuracy=72.47%: 100%|██████████| 391/391 [02:38<00:00,  2.47it/s]\n"
          ]
        },
        {
          "output_type": "stream",
          "name": "stdout",
          "text": [
            "\n",
            "Test set: Average loss: 1.3650 ,Top-1 Accuracy: 6649/10000 (66.49%)%\n",
            "\n",
            "EPOCH: 25\n"
          ]
        },
        {
          "output_type": "stream",
          "name": "stderr",
          "text": [
            "Loss=0.8392 Batch_id=390 Accuracy=73.34%: 100%|██████████| 391/391 [02:38<00:00,  2.47it/s]\n"
          ]
        },
        {
          "output_type": "stream",
          "name": "stdout",
          "text": [
            "\n",
            "Test set: Average loss: 1.3111 ,Top-1 Accuracy: 6727/10000 (67.27%)%\n",
            "\n",
            "EPOCH: 26\n"
          ]
        },
        {
          "output_type": "stream",
          "name": "stderr",
          "text": [
            "Loss=0.8983 Batch_id=390 Accuracy=74.58%: 100%|██████████| 391/391 [02:38<00:00,  2.47it/s]\n"
          ]
        },
        {
          "output_type": "stream",
          "name": "stdout",
          "text": [
            "\n",
            "Test set: Average loss: 1.3114 ,Top-1 Accuracy: 6721/10000 (67.21%)%\n",
            "\n",
            "EPOCH: 27\n"
          ]
        },
        {
          "output_type": "stream",
          "name": "stderr",
          "text": [
            "Loss=1.0721 Batch_id=390 Accuracy=75.63%: 100%|██████████| 391/391 [02:37<00:00,  2.48it/s]\n"
          ]
        },
        {
          "output_type": "stream",
          "name": "stdout",
          "text": [
            "\n",
            "Test set: Average loss: 1.3233 ,Top-1 Accuracy: 6789/10000 (67.89%)%\n",
            "\n",
            "EPOCH: 28\n"
          ]
        },
        {
          "output_type": "stream",
          "name": "stderr",
          "text": [
            "Loss=0.9872 Batch_id=128 Accuracy=77.07%:  33%|███▎      | 129/391 [00:53<01:47,  2.43it/s]\n"
          ]
        },
        {
          "output_type": "error",
          "ename": "KeyboardInterrupt",
          "evalue": "",
          "traceback": [
            "\u001b[0;31m---------------------------------------------------------------------------\u001b[0m",
            "\u001b[0;31mKeyboardInterrupt\u001b[0m                         Traceback (most recent call last)",
            "\u001b[0;32m/tmp/ipython-input-1730606257.py\u001b[0m in \u001b[0;36m<cell line: 0>\u001b[0;34m()\u001b[0m\n\u001b[1;32m      2\u001b[0m \u001b[0;32mfor\u001b[0m \u001b[0mepoch\u001b[0m \u001b[0;32min\u001b[0m \u001b[0mrange\u001b[0m\u001b[0;34m(\u001b[0m\u001b[0mEPOCHS\u001b[0m\u001b[0;34m)\u001b[0m\u001b[0;34m:\u001b[0m\u001b[0;34m\u001b[0m\u001b[0;34m\u001b[0m\u001b[0m\n\u001b[1;32m      3\u001b[0m     \u001b[0mprint\u001b[0m\u001b[0;34m(\u001b[0m\u001b[0;34m\"EPOCH:\"\u001b[0m\u001b[0;34m,\u001b[0m \u001b[0mepoch\u001b[0m\u001b[0;34m+\u001b[0m\u001b[0;36m1\u001b[0m\u001b[0;34m)\u001b[0m\u001b[0;34m\u001b[0m\u001b[0;34m\u001b[0m\u001b[0m\n\u001b[0;32m----> 4\u001b[0;31m     \u001b[0mtrain\u001b[0m\u001b[0;34m(\u001b[0m\u001b[0mmodel\u001b[0m\u001b[0;34m,\u001b[0m \u001b[0mdevice\u001b[0m\u001b[0;34m,\u001b[0m \u001b[0mtrain_loader\u001b[0m\u001b[0;34m,\u001b[0m \u001b[0moptimizer\u001b[0m\u001b[0;34m,\u001b[0m \u001b[0mepoch\u001b[0m\u001b[0;34m)\u001b[0m\u001b[0;34m\u001b[0m\u001b[0;34m\u001b[0m\u001b[0m\n\u001b[0m\u001b[1;32m      5\u001b[0m     \u001b[0mtest\u001b[0m\u001b[0;34m(\u001b[0m\u001b[0mmodel\u001b[0m\u001b[0;34m,\u001b[0m \u001b[0mdevice\u001b[0m\u001b[0;34m,\u001b[0m \u001b[0mtest_loader\u001b[0m\u001b[0;34m)\u001b[0m\u001b[0;34m\u001b[0m\u001b[0;34m\u001b[0m\u001b[0m\n",
            "\u001b[0;32m/tmp/ipython-input-2829834487.py\u001b[0m in \u001b[0;36mtrain\u001b[0;34m(model, device, train_loader, optimizer, epoch)\u001b[0m\n\u001b[1;32m     26\u001b[0m \u001b[0;34m\u001b[0m\u001b[0m\n\u001b[1;32m     27\u001b[0m         \u001b[0mpred\u001b[0m \u001b[0;34m=\u001b[0m \u001b[0my_pred\u001b[0m\u001b[0;34m.\u001b[0m\u001b[0margmax\u001b[0m\u001b[0;34m(\u001b[0m\u001b[0mdim\u001b[0m\u001b[0;34m=\u001b[0m\u001b[0;36m1\u001b[0m\u001b[0;34m,\u001b[0m \u001b[0mkeepdim\u001b[0m\u001b[0;34m=\u001b[0m\u001b[0;32mTrue\u001b[0m\u001b[0;34m)\u001b[0m\u001b[0;34m\u001b[0m\u001b[0;34m\u001b[0m\u001b[0m\n\u001b[0;32m---> 28\u001b[0;31m         \u001b[0mcorrect\u001b[0m \u001b[0;34m+=\u001b[0m \u001b[0mpred\u001b[0m\u001b[0;34m.\u001b[0m\u001b[0meq\u001b[0m\u001b[0;34m(\u001b[0m\u001b[0mtarget\u001b[0m\u001b[0;34m.\u001b[0m\u001b[0mview_as\u001b[0m\u001b[0;34m(\u001b[0m\u001b[0mpred\u001b[0m\u001b[0;34m)\u001b[0m\u001b[0;34m)\u001b[0m\u001b[0;34m.\u001b[0m\u001b[0msum\u001b[0m\u001b[0;34m(\u001b[0m\u001b[0;34m)\u001b[0m\u001b[0;34m.\u001b[0m\u001b[0mitem\u001b[0m\u001b[0;34m(\u001b[0m\u001b[0;34m)\u001b[0m\u001b[0;34m\u001b[0m\u001b[0;34m\u001b[0m\u001b[0m\n\u001b[0m\u001b[1;32m     29\u001b[0m         \u001b[0mprocessed\u001b[0m \u001b[0;34m+=\u001b[0m \u001b[0mlen\u001b[0m\u001b[0;34m(\u001b[0m\u001b[0mdata\u001b[0m\u001b[0;34m)\u001b[0m\u001b[0;34m\u001b[0m\u001b[0;34m\u001b[0m\u001b[0m\n\u001b[1;32m     30\u001b[0m \u001b[0;34m\u001b[0m\u001b[0m\n",
            "\u001b[0;31mKeyboardInterrupt\u001b[0m: "
          ]
        }
      ],
      "source": [
        "EPOCHS = 100\n",
        "for epoch in range(EPOCHS):\n",
        "    print(\"EPOCH:\", epoch+1)\n",
        "    train(model, device, train_loader, optimizer, epoch)\n",
        "    test(model, device, test_loader)"
      ]
    },
    {
      "cell_type": "code",
      "execution_count": null,
      "metadata": {
        "id": "B5MFqE1yaSjn"
      },
      "outputs": [],
      "source": [
        "t = [t_items.item() for t_items in train_losses]\n",
        "%matplotlib inline\n",
        "import matplotlib.pyplot as plt\n",
        "fig, axs = plt.subplots(2,2,figsize=(15,10))\n",
        "axs[0, 0].plot(t)\n",
        "axs[0, 0].set_title(\"Training Loss\")\n",
        "axs[1, 0].plot(train_acc[4000:])\n",
        "axs[1, 0].set_title(\"Training Accuracy\")\n",
        "axs[0, 1].plot(test_losses)\n",
        "axs[0, 1].set_title(\"Test Loss\")\n",
        "axs[1, 1].plot(test_acc)\n",
        "axs[1, 1].set_title(\"Test Accuracy\")"
      ]
    }
  ],
  "metadata": {
    "accelerator": "GPU",
    "colab": {
      "gpuType": "T4",
      "provenance": [],
      "authorship_tag": "ABX9TyPVcOP4oky8P5wMG13BLdD0",
      "include_colab_link": true
    },
    "kernelspec": {
      "display_name": "Python 3",
      "name": "python3"
    },
    "language_info": {
      "name": "python"
    }
  },
  "nbformat": 4,
  "nbformat_minor": 0
}