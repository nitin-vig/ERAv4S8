{
  "cells": [
    {
      "cell_type": "markdown",
      "metadata": {
        "id": "view-in-github",
        "colab_type": "text"
      },
      "source": [
        "<a href=\"https://colab.research.google.com/github/nitin-vig/ERAv4S8/blob/main/Cifar_100_with_Resnt50_AdamW.ipynb\" target=\"_parent\"><img src=\"https://colab.research.google.com/assets/colab-badge.svg\" alt=\"Open In Colab\"/></a>"
      ]
    },
    {
      "cell_type": "code",
      "execution_count": 89,
      "metadata": {
        "id": "cOSlh9n4c-hH"
      },
      "outputs": [],
      "source": []
    },
    {
      "cell_type": "markdown",
      "metadata": {
        "id": "u-GYmfW8dGpQ"
      },
      "source": []
    },
    {
      "cell_type": "markdown",
      "metadata": {
        "id": "XC8UX7LDdHa0"
      },
      "source": [
        "\n",
        "\n",
        "# Cifar 100 with Resnt50"
      ]
    },
    {
      "cell_type": "markdown",
      "metadata": {
        "id": "7XzvJLus2WJ2"
      },
      "source": []
    },
    {
      "cell_type": "code",
      "execution_count": 90,
      "metadata": {
        "id": "UxaYbdi2dLBO"
      },
      "outputs": [],
      "source": [
        "from __future__ import print_function\n",
        "import torch\n",
        "import torch.nn as nn\n",
        "import torch.nn.functional as F\n",
        "import torch.optim as optim\n",
        "from torchvision import datasets, transforms\n",
        "from matplotlib import pyplot as plt\n",
        "import albumentations as A\n",
        "from albumentations.pytorch import ToTensorV2\n",
        "import numpy as np"
      ]
    },
    {
      "cell_type": "markdown",
      "metadata": {
        "id": "g4fYw485T0IV"
      },
      "source": [
        "**Compute Mean and Standard Deviation for Normalization of data**. Commented as it is needed only once"
      ]
    },
    {
      "cell_type": "code",
      "execution_count": 90,
      "metadata": {
        "id": "-A43tRpdTzmU"
      },
      "outputs": [],
      "source": []
    },
    {
      "cell_type": "code",
      "execution_count": 91,
      "metadata": {
        "id": "Uei6QCR0TD6V"
      },
      "outputs": [],
      "source": [
        "# import torch\n",
        "# from torchvision import datasets, transforms\n",
        "# from torch.utils.data import DataLoader\n",
        "# from tqdm import tqdm\n",
        "\n",
        "# def get_mean_and_std(dataloader):\n",
        "#     \"\"\"\n",
        "#     Calculate the mean and standard deviation of a dataset.\n",
        "\n",
        "#     Args:\n",
        "#         dataloader (DataLoader): The DataLoader for the dataset.\n",
        "\n",
        "#     Returns:\n",
        "#         tuple: The mean and standard deviation tensors for each channel.\n",
        "#     \"\"\"\n",
        "#     channels_sum, channels_squared_sum, num_batches = 0, 0, 0\n",
        "#     for data, _ in tqdm(dataloader, desc=\"Calculating mean and std\"):\n",
        "#         # Mean over batch, height, and width, but not over the channels\n",
        "#         channels_sum += torch.mean(data, dim=[0, 2, 3])\n",
        "#         channels_squared_sum += torch.mean(data**2, dim=[0, 2, 3])\n",
        "#         num_batches += 1\n",
        "\n",
        "#     mean = channels_sum / num_batches\n",
        "#     # Std = sqrt(E[X^2] - (E[X])^2)\n",
        "#     std = (channels_squared_sum / num_batches - mean ** 2) ** 0.5\n",
        "#     return mean, std\n",
        "\n",
        "# # 1. Load the dataset without normalization (only convert to tensor)\n",
        "# # This will automatically download the dataset if it's not present\n",
        "# transform = transforms.Compose([transforms.ToTensor()])\n",
        "# train_dataset = datasets.CIFAR100(root='./data', train=True, download=True, transform=transform)\n",
        "\n",
        "# # 2. Create a DataLoader\n",
        "# train_loader = DataLoader(train_dataset, batch_size=128, shuffle=False)\n",
        "\n",
        "# # 3. Get the mean and standard deviation\n",
        "# mean, std = get_mean_and_std(train_loader)\n",
        "\n",
        "# print('Calculated Mean:', mean)\n",
        "# print('Calculated Standard Deviation:', std)\n",
        "\n",
        "# 100%|██████████| 169M/169M [00:06<00:00, 27.9MB/s]\n",
        "# Calculating mean and std: 100%|██████████| 391/391 [00:07<00:00, 50.50it/s]\n",
        "# Calculated Mean: tensor([0.5070, 0.4865, 0.4409])\n",
        "# Calculated Standard Deviation: tensor([0.2673, 0.2564, 0.2761])"
      ]
    },
    {
      "cell_type": "code",
      "execution_count": 92,
      "metadata": {
        "colab": {
          "base_uri": "https://localhost:8080/"
        },
        "id": "RLvCZKLp7lh2",
        "outputId": "005a3d66-0d7f-4464-d86c-5c07ffabebdc"
      },
      "outputs": [
        {
          "output_type": "stream",
          "name": "stderr",
          "text": [
            "/tmp/ipython-input-1334562076.py:12: UserWarning: Argument(s) 'value' are not valid for transform PadIfNeeded\n",
            "  A.PadIfNeeded(min_height=40, min_width=40, border_mode=0, value=0, p=1.0),  # Pad first\n",
            "/tmp/ipython-input-1334562076.py:17: UserWarning: Argument(s) 'max_holes, max_height, max_width, min_height, min_width, fill_value' are not valid for transform CoarseDropout\n",
            "  A.CoarseDropout(\n",
            "/tmp/ipython-input-1334562076.py:26: UserWarning: Argument(s) 'var_limit' are not valid for transform GaussNoise\n",
            "  A.GaussNoise(var_limit=(10.0, 50.0), p=0.25),\n"
          ]
        }
      ],
      "source": [
        "# Train Phase transformations\n",
        "# Define your Albumentations pipeline\n",
        "import albumentations as A\n",
        "from albumentations.pytorch import ToTensorV2\n",
        "import numpy as np\n",
        "\n",
        "CIFAR_MEAN = (0.5070, 0.4865, 0.4409)\n",
        "CIFAR_STD  = (0.2673, 0.2564, 0.2761)\n",
        "\n",
        "\n",
        "train_alb = A.Compose([\n",
        "    A.PadIfNeeded(min_height=40, min_width=40, border_mode=0, value=0, p=1.0),  # Pad first\n",
        "    A.RandomCrop(32, 32, p=1.0),  # Then crop\n",
        "    A.HorizontalFlip(p=0.5),\n",
        "    # A.ShiftScaleRotate(shift_limit=0.1, scale_limit=0.15, rotate_limit=15, p=0.5),\n",
        "    A.OneOf([\n",
        "        A.CoarseDropout(\n",
        "            max_holes=1,\n",
        "            max_height=16,\n",
        "            max_width=16,\n",
        "            min_height=8,\n",
        "            min_width=8,\n",
        "            fill_value=tuple([int(x * 255) for x in [0.5071, 0.4867, 0.4408]]),\n",
        "            p=0.75\n",
        "        ),\n",
        "        A.GaussNoise(var_limit=(10.0, 50.0), p=0.25),\n",
        "    ], p=0.5),\n",
        "    A.Normalize((0.5071, 0.4867, 0.4408), (0.2675, 0.2565, 0.2761)),\n",
        "    ToTensorV2(),\n",
        "])\n",
        "\n",
        "# test: only normalize + tensor\n",
        "test_alb = A.Compose([\n",
        "    A.Normalize(mean=CIFAR_MEAN, std=CIFAR_STD),\n",
        "    ToTensorV2(),\n",
        "])\n",
        "\n",
        "# wrapper functions for torchvision CIFAR100 dataset\n",
        "def alb_train_transform(img):\n",
        "    if not isinstance(img, np.ndarray):\n",
        "        img = np.array(img)\n",
        "    return train_alb(image=img)[\"image\"]\n",
        "\n",
        "def alb_test_transform(img):\n",
        "    if not isinstance(img, np.ndarray):\n",
        "        img = np.array(img)\n",
        "    return test_alb(image=img)[\"image\"]\n",
        "\n"
      ]
    },
    {
      "cell_type": "code",
      "execution_count": 92,
      "metadata": {
        "id": "sIxAwWL176Bl"
      },
      "outputs": [],
      "source": []
    },
    {
      "cell_type": "code",
      "execution_count": 93,
      "metadata": {
        "id": "TRawLqCH7p0I"
      },
      "outputs": [],
      "source": [
        "train = datasets.CIFAR100('./data', train=True, download=True, transform=alb_train_transform)\n",
        "test = datasets.CIFAR100('./data', train=False, download=True, transform=alb_test_transform)"
      ]
    },
    {
      "cell_type": "code",
      "execution_count": 93,
      "metadata": {
        "id": "iK8DvS4FSnSa"
      },
      "outputs": [],
      "source": []
    },
    {
      "cell_type": "code",
      "execution_count": 94,
      "metadata": {
        "colab": {
          "base_uri": "https://localhost:8080/"
        },
        "id": "H8PoAAuI7vNO",
        "outputId": "cf1c5d98-279d-4311-f13e-f425eea37744"
      },
      "outputs": [
        {
          "output_type": "stream",
          "name": "stdout",
          "text": [
            "CUDA Available? True\n"
          ]
        }
      ],
      "source": [
        "SEED = 1\n",
        "\n",
        "# CUDA?\n",
        "cuda = torch.cuda.is_available()\n",
        "print(\"CUDA Available?\", cuda)\n",
        "\n",
        "# For reproducibility\n",
        "torch.manual_seed(SEED)\n",
        "\n",
        "if cuda:\n",
        "    torch.cuda.manual_seed(SEED)\n",
        "\n",
        "# dataloader arguments - something you'll fetch these from cmdprmt\n",
        "dataloader_args = dict(shuffle=True, batch_size=256, num_workers=4, pin_memory=True) if cuda else dict(shuffle=True, batch_size=64)\n",
        "\n",
        "# train dataloader\n",
        "train_loader = torch.utils.data.DataLoader(train, **dataloader_args)\n",
        "\n",
        "# test dataloader\n",
        "test_loader = torch.utils.data.DataLoader(test, **dataloader_args)"
      ]
    },
    {
      "cell_type": "code",
      "execution_count": 95,
      "metadata": {
        "id": "N8m3tkcbwa_c",
        "colab": {
          "base_uri": "https://localhost:8080/",
          "height": 671
        },
        "outputId": "80495595-b2c7-4076-f916-61ae450f5256"
      },
      "outputs": [
        {
          "output_type": "stream",
          "name": "stderr",
          "text": [
            "WARNING:matplotlib.image:Clipping input data to the valid range for imshow with RGB data ([0..1] for floats or [0..255] for integers). Got range [-1.8974658..2.0253532].\n",
            "WARNING:matplotlib.image:Clipping input data to the valid range for imshow with RGB data ([0..1] for floats or [0..255] for integers). Got range [-1.8974658..1.9705921].\n",
            "WARNING:matplotlib.image:Clipping input data to the valid range for imshow with RGB data ([0..1] for floats or [0..255] for integers). Got range [-1.8974658..1.6080557].\n",
            "WARNING:matplotlib.image:Clipping input data to the valid range for imshow with RGB data ([0..1] for floats or [0..255] for integers). Got range [-1.8974658..2.0253532].\n",
            "WARNING:matplotlib.image:Clipping input data to the valid range for imshow with RGB data ([0..1] for floats or [0..255] for integers). Got range [-1.8974658..1.9685395].\n",
            "WARNING:matplotlib.image:Clipping input data to the valid range for imshow with RGB data ([0..1] for floats or [0..255] for integers). Got range [-1.8974658..1.2978864].\n",
            "WARNING:matplotlib.image:Clipping input data to the valid range for imshow with RGB data ([0..1] for floats or [0..255] for integers). Got range [-1.8974658..1.7980982].\n",
            "WARNING:matplotlib.image:Clipping input data to the valid range for imshow with RGB data ([0..1] for floats or [0..255] for integers). Got range [-1.8974658..1.6648167].\n",
            "WARNING:matplotlib.image:Clipping input data to the valid range for imshow with RGB data ([0..1] for floats or [0..255] for integers). Got range [-1.8974658..1.9685395].\n",
            "WARNING:matplotlib.image:Clipping input data to the valid range for imshow with RGB data ([0..1] for floats or [0..255] for integers). Got range [-1.8974658..1.8691155].\n",
            "WARNING:matplotlib.image:Clipping input data to the valid range for imshow with RGB data ([0..1] for floats or [0..255] for integers). Got range [-1.8974658..2.0253532].\n",
            "WARNING:matplotlib.image:Clipping input data to the valid range for imshow with RGB data ([0..1] for floats or [0..255] for integers). Got range [-1.8974658..1.1535935].\n"
          ]
        },
        {
          "output_type": "display_data",
          "data": {
            "text/plain": [
              "<Figure size 640x480 with 12 Axes>"
            ],
            "image/png": "[encoded data removed]"
          },
          "metadata": {}
        }
      ],
      "source": [
        "\n",
        "import matplotlib.pyplot as plt\n",
        "\n",
        "batch_data, batch_label = next(iter(train_loader))\n",
        "\n",
        "fig = plt.figure()\n",
        "\n",
        "for i in range(12):\n",
        "  plt.subplot(3,4,i+1)\n",
        "  plt.tight_layout()\n",
        "  # plt.imshow(batch_data[i].squeeze(0), cmap='gray')\n",
        "  plt.imshow(batch_data[i].permute(1,2,0))\n",
        "\n",
        "  plt.title(batch_label[i].item())\n",
        "  plt.xticks([])\n",
        "  plt.yticks([])"
      ]
    },
    {
      "cell_type": "code",
      "execution_count": 96,
      "metadata": {
        "id": "gr757vIC7-Rt"
      },
      "outputs": [],
      "source": [
        "\n",
        "import torch\n",
        "import torch.nn as nn\n",
        "import torch.optim as optim\n",
        "from torch.utils.data import DataLoader\n",
        "import torchvision\n",
        "import torchvision.transforms as transforms\n",
        "from torchvision.datasets import CIFAR100\n",
        "from tqdm import tqdm\n",
        "\n",
        "\n",
        "# Bottleneck block (same as before)\n",
        "class Bottleneck(nn.Module):\n",
        " expansion = 4\n",
        "\n",
        " def __init__(self, in_channels, out_channels, stride=1, downsample=None):\n",
        "  super(Bottleneck, self).__init__()\n",
        "  self.conv1 = nn.Conv2d(in_channels, out_channels, kernel_size=1, bias=False)\n",
        "  self.bn1 = nn.BatchNorm2d(out_channels)\n",
        "\n",
        "  self.conv2 = nn.Conv2d(\n",
        "   out_channels, out_channels, kernel_size=3, stride=stride, padding=1, bias=False\n",
        "  )\n",
        "  self.bn2 = nn.BatchNorm2d(out_channels)\n",
        "\n",
        "  self.conv3 = nn.Conv2d(\n",
        "   out_channels, out_channels * self.expansion, kernel_size=1, bias=False\n",
        "  )\n",
        "  self.bn3 = nn.BatchNorm2d(out_channels * self.expansion)\n",
        "\n",
        "  self.relu = nn.ReLU(inplace=True)\n",
        "  self.downsample = downsample\n",
        "\n",
        " def forward(self, x):\n",
        "  identity = x\n",
        "\n",
        "  out = self.conv1(x)\n",
        "  out = self.bn1(out)\n",
        "  out = self.relu(out)\n",
        "\n",
        "  out = self.conv2(out)\n",
        "  out = self.bn2(out)\n",
        "  out = self.relu(out)\n",
        "\n",
        "  out = self.conv3(out)\n",
        "  out = self.bn3(out)\n",
        "\n",
        "  if self.downsample is not None:\n",
        "   identity = self.downsample(x)\n",
        "\n",
        "  out += identity\n",
        "  out = self.relu(out)\n",
        "  return out\n",
        "\n",
        "\n",
        "# ResNet tailored for CIFAR (no initial 7x7 stride-2 conv + no maxpool)\n",
        "class ResNetCIFAR(nn.Module):\n",
        " def __init__(self, block, layers, num_classes=100):\n",
        "  super(ResNetCIFAR, self).__init__()\n",
        "  self.in_channels = 64\n",
        "\n",
        "  # Adjusted first conv for CIFAR (3x3, stride=1)\n",
        "  self.conv1 = nn.Conv2d(3, 64, kernel_size=3, stride=1, padding=1, bias=False)\n",
        "  self.bn1 = nn.BatchNorm2d(64)\n",
        "  self.relu = nn.ReLU(inplace=True)\n",
        "\n",
        "  # NOTE: we do NOT use the 7x7 stride-2 conv or the 3x3 maxpool used for ImageNet\n",
        "  # Stage layers\n",
        "  self.layer1 = self._make_layer(block, 64, layers[0], stride=1)\n",
        "  self.layer2 = self._make_layer(block, 128, layers[1], stride=2)\n",
        "  self.layer3 = self._make_layer(block, 256, layers[2], stride=2)\n",
        "  self.layer4 = self._make_layer(block, 512, layers[3], stride=2)\n",
        "\n",
        "  self.avgpool = nn.AdaptiveAvgPool2d((1, 1))\n",
        "  self.fc = nn.Linear(512 * block.expansion, num_classes)\n",
        "\n",
        "  # Weight initialization\n",
        "  for m in self.modules():\n",
        "   if isinstance(m, nn.Conv2d):\n",
        "    nn.init.kaiming_normal_(m.weight, mode=\"fan_out\", nonlinearity=\"relu\")\n",
        "   elif isinstance(m, nn.BatchNorm2d):\n",
        "    nn.init.constant_(m.weight, 1)\n",
        "    nn.init.constant_(m.bias, 0)\n",
        "\n",
        " def _make_layer(self, block, out_channels, blocks, stride=1):\n",
        "  downsample = None\n",
        "  if stride != 1 or self.in_channels != out_channels * block.expansion:\n",
        "   downsample = nn.Sequential(\n",
        "    nn.Conv2d(\n",
        "     self.in_channels,\n",
        "     out_channels * block.expansion,\n",
        "     kernel_size=1,\n",
        "     stride=stride,\n",
        "     bias=False,\n",
        "    ),\n",
        "    nn.BatchNorm2d(out_channels * block.expansion),\n",
        "   )\n",
        "\n",
        "  layers = []\n",
        "  layers.append(block(self.in_channels, out_channels, stride, downsample))\n",
        "  self.in_channels = out_channels * block.expansion\n",
        "  for _ in range(1, blocks):\n",
        "   layers.append(block(self.in_channels, out_channels))\n",
        "\n",
        "  return nn.Sequential(*layers)\n",
        "\n",
        " def forward(self, x):\n",
        "  x = self.conv1(x)\n",
        "  x = self.bn1(x)\n",
        "  x = self.relu(x)\n",
        "  # no maxpool\n",
        "\n",
        "  x = self.layer1(x)\n",
        "  x = self.layer2(x)\n",
        "  x = self.layer3(x)\n",
        "  x = self.layer4(x)\n",
        "\n",
        "  x = self.avgpool(x)\n",
        "  x = torch.flatten(x, 1)\n",
        "  x = self.fc(x)\n",
        "  return x\n",
        "\n",
        "\n",
        "def resnet50_cifar(num_classes=100):\n",
        " return ResNetCIFAR(Bottleneck, [3, 4, 6, 3], num_classes=num_classes)"
      ]
    },
    {
      "cell_type": "code",
      "execution_count": 97,
      "metadata": {
        "id": "Pe9JSzWI8B_v",
        "colab": {
          "base_uri": "https://localhost:8080/"
        },
        "outputId": "12975629-b51b-4b22-8c45-df56469927a0"
      },
      "outputs": [
        {
          "output_type": "stream",
          "name": "stdout",
          "text": [
            "Requirement already satisfied: torchsummary in /usr/local/lib/python3.12/dist-packages (1.5.1)\n",
            "cuda\n",
            "----------------------------------------------------------------\n",
            "        Layer (type)               Output Shape         Param #\n",
            "================================================================\n",
            "            Conv2d-1           [-1, 64, 32, 32]           1,728\n",
            "       BatchNorm2d-2           [-1, 64, 32, 32]             128\n",
            "              ReLU-3           [-1, 64, 32, 32]               0\n",
            "            Conv2d-4           [-1, 64, 32, 32]           4,096\n",
            "       BatchNorm2d-5           [-1, 64, 32, 32]             128\n",
            "              ReLU-6           [-1, 64, 32, 32]               0\n",
            "            Conv2d-7           [-1, 64, 32, 32]          36,864\n",
            "       BatchNorm2d-8           [-1, 64, 32, 32]             128\n",
            "              ReLU-9           [-1, 64, 32, 32]               0\n",
            "           Conv2d-10          [-1, 256, 32, 32]          16,384\n",
            "      BatchNorm2d-11          [-1, 256, 32, 32]             512\n",
            "           Conv2d-12          [-1, 256, 32, 32]          16,384\n",
            "      BatchNorm2d-13          [-1, 256, 32, 32]             512\n",
            "             ReLU-14          [-1, 256, 32, 32]               0\n",
            "       Bottleneck-15          [-1, 256, 32, 32]               0\n",
            "           Conv2d-16           [-1, 64, 32, 32]          16,384\n",
            "      BatchNorm2d-17           [-1, 64, 32, 32]             128\n",
            "             ReLU-18           [-1, 64, 32, 32]               0\n",
            "           Conv2d-19           [-1, 64, 32, 32]          36,864\n",
            "      BatchNorm2d-20           [-1, 64, 32, 32]             128\n",
            "             ReLU-21           [-1, 64, 32, 32]               0\n",
            "           Conv2d-22          [-1, 256, 32, 32]          16,384\n",
            "      BatchNorm2d-23          [-1, 256, 32, 32]             512\n",
            "             ReLU-24          [-1, 256, 32, 32]               0\n",
            "       Bottleneck-25          [-1, 256, 32, 32]               0\n",
            "           Conv2d-26           [-1, 64, 32, 32]          16,384\n",
            "      BatchNorm2d-27           [-1, 64, 32, 32]             128\n",
            "             ReLU-28           [-1, 64, 32, 32]               0\n",
            "           Conv2d-29           [-1, 64, 32, 32]          36,864\n",
            "      BatchNorm2d-30           [-1, 64, 32, 32]             128\n",
            "             ReLU-31           [-1, 64, 32, 32]               0\n",
            "           Conv2d-32          [-1, 256, 32, 32]          16,384\n",
            "      BatchNorm2d-33          [-1, 256, 32, 32]             512\n",
            "             ReLU-34          [-1, 256, 32, 32]               0\n",
            "       Bottleneck-35          [-1, 256, 32, 32]               0\n",
            "           Conv2d-36          [-1, 128, 32, 32]          32,768\n",
            "      BatchNorm2d-37          [-1, 128, 32, 32]             256\n",
            "             ReLU-38          [-1, 128, 32, 32]               0\n",
            "           Conv2d-39          [-1, 128, 16, 16]         147,456\n",
            "      BatchNorm2d-40          [-1, 128, 16, 16]             256\n",
            "             ReLU-41          [-1, 128, 16, 16]               0\n",
            "           Conv2d-42          [-1, 512, 16, 16]          65,536\n",
            "      BatchNorm2d-43          [-1, 512, 16, 16]           1,024\n",
            "           Conv2d-44          [-1, 512, 16, 16]         131,072\n",
            "      BatchNorm2d-45          [-1, 512, 16, 16]           1,024\n",
            "             ReLU-46          [-1, 512, 16, 16]               0\n",
            "       Bottleneck-47          [-1, 512, 16, 16]               0\n",
            "           Conv2d-48          [-1, 128, 16, 16]          65,536\n",
            "      BatchNorm2d-49          [-1, 128, 16, 16]             256\n",
            "             ReLU-50          [-1, 128, 16, 16]               0\n",
            "           Conv2d-51          [-1, 128, 16, 16]         147,456\n",
            "      BatchNorm2d-52          [-1, 128, 16, 16]             256\n",
            "             ReLU-53          [-1, 128, 16, 16]               0\n",
            "           Conv2d-54          [-1, 512, 16, 16]          65,536\n",
            "      BatchNorm2d-55          [-1, 512, 16, 16]           1,024\n",
            "             ReLU-56          [-1, 512, 16, 16]               0\n",
            "       Bottleneck-57          [-1, 512, 16, 16]               0\n",
            "           Conv2d-58          [-1, 128, 16, 16]          65,536\n",
            "      BatchNorm2d-59          [-1, 128, 16, 16]             256\n",
            "             ReLU-60          [-1, 128, 16, 16]               0\n",
            "           Conv2d-61          [-1, 128, 16, 16]         147,456\n",
            "      BatchNorm2d-62          [-1, 128, 16, 16]             256\n",
            "             ReLU-63          [-1, 128, 16, 16]               0\n",
            "           Conv2d-64          [-1, 512, 16, 16]          65,536\n",
            "      BatchNorm2d-65          [-1, 512, 16, 16]           1,024\n",
            "             ReLU-66          [-1, 512, 16, 16]               0\n",
            "       Bottleneck-67          [-1, 512, 16, 16]               0\n",
            "           Conv2d-68          [-1, 128, 16, 16]          65,536\n",
            "      BatchNorm2d-69          [-1, 128, 16, 16]             256\n",
            "             ReLU-70          [-1, 128, 16, 16]               0\n",
            "           Conv2d-71          [-1, 128, 16, 16]         147,456\n",
            "      BatchNorm2d-72          [-1, 128, 16, 16]             256\n",
            "             ReLU-73          [-1, 128, 16, 16]               0\n",
            "           Conv2d-74          [-1, 512, 16, 16]          65,536\n",
            "      BatchNorm2d-75          [-1, 512, 16, 16]           1,024\n",
            "             ReLU-76          [-1, 512, 16, 16]               0\n",
            "       Bottleneck-77          [-1, 512, 16, 16]               0\n",
            "           Conv2d-78          [-1, 256, 16, 16]         131,072\n",
            "      BatchNorm2d-79          [-1, 256, 16, 16]             512\n",
            "             ReLU-80          [-1, 256, 16, 16]               0\n",
            "           Conv2d-81            [-1, 256, 8, 8]         589,824\n",
            "      BatchNorm2d-82            [-1, 256, 8, 8]             512\n",
            "             ReLU-83            [-1, 256, 8, 8]               0\n",
            "           Conv2d-84           [-1, 1024, 8, 8]         262,144\n",
            "      BatchNorm2d-85           [-1, 1024, 8, 8]           2,048\n",
            "           Conv2d-86           [-1, 1024, 8, 8]         524,288\n",
            "      BatchNorm2d-87           [-1, 1024, 8, 8]           2,048\n",
            "             ReLU-88           [-1, 1024, 8, 8]               0\n",
            "       Bottleneck-89           [-1, 1024, 8, 8]               0\n",
            "           Conv2d-90            [-1, 256, 8, 8]         262,144\n",
            "      BatchNorm2d-91            [-1, 256, 8, 8]             512\n",
            "             ReLU-92            [-1, 256, 8, 8]               0\n",
            "           Conv2d-93            [-1, 256, 8, 8]         589,824\n",
            "      BatchNorm2d-94            [-1, 256, 8, 8]             512\n",
            "             ReLU-95            [-1, 256, 8, 8]               0\n",
            "           Conv2d-96           [-1, 1024, 8, 8]         262,144\n",
            "      BatchNorm2d-97           [-1, 1024, 8, 8]           2,048\n",
            "             ReLU-98           [-1, 1024, 8, 8]               0\n",
            "       Bottleneck-99           [-1, 1024, 8, 8]               0\n",
            "          Conv2d-100            [-1, 256, 8, 8]         262,144\n",
            "     BatchNorm2d-101            [-1, 256, 8, 8]             512\n",
            "            ReLU-102            [-1, 256, 8, 8]               0\n",
            "          Conv2d-103            [-1, 256, 8, 8]         589,824\n",
            "     BatchNorm2d-104            [-1, 256, 8, 8]             512\n",
            "            ReLU-105            [-1, 256, 8, 8]               0\n",
            "          Conv2d-106           [-1, 1024, 8, 8]         262,144\n",
            "     BatchNorm2d-107           [-1, 1024, 8, 8]           2,048\n",
            "            ReLU-108           [-1, 1024, 8, 8]               0\n",
            "      Bottleneck-109           [-1, 1024, 8, 8]               0\n",
            "          Conv2d-110            [-1, 256, 8, 8]         262,144\n",
            "     BatchNorm2d-111            [-1, 256, 8, 8]             512\n",
            "            ReLU-112            [-1, 256, 8, 8]               0\n",
            "          Conv2d-113            [-1, 256, 8, 8]         589,824\n",
            "     BatchNorm2d-114            [-1, 256, 8, 8]             512\n",
            "            ReLU-115            [-1, 256, 8, 8]               0\n",
            "          Conv2d-116           [-1, 1024, 8, 8]         262,144\n",
            "     BatchNorm2d-117           [-1, 1024, 8, 8]           2,048\n",
            "            ReLU-118           [-1, 1024, 8, 8]               0\n",
            "      Bottleneck-119           [-1, 1024, 8, 8]               0\n",
            "          Conv2d-120            [-1, 256, 8, 8]         262,144\n",
            "     BatchNorm2d-121            [-1, 256, 8, 8]             512\n",
            "            ReLU-122            [-1, 256, 8, 8]               0\n",
            "          Conv2d-123            [-1, 256, 8, 8]         589,824\n",
            "     BatchNorm2d-124            [-1, 256, 8, 8]             512\n",
            "            ReLU-125            [-1, 256, 8, 8]               0\n",
            "          Conv2d-126           [-1, 1024, 8, 8]         262,144\n",
            "     BatchNorm2d-127           [-1, 1024, 8, 8]           2,048\n",
            "            ReLU-128           [-1, 1024, 8, 8]               0\n",
            "      Bottleneck-129           [-1, 1024, 8, 8]               0\n",
            "          Conv2d-130            [-1, 256, 8, 8]         262,144\n",
            "     BatchNorm2d-131            [-1, 256, 8, 8]             512\n",
            "            ReLU-132            [-1, 256, 8, 8]               0\n",
            "          Conv2d-133            [-1, 256, 8, 8]         589,824\n",
            "     BatchNorm2d-134            [-1, 256, 8, 8]             512\n",
            "            ReLU-135            [-1, 256, 8, 8]               0\n",
            "          Conv2d-136           [-1, 1024, 8, 8]         262,144\n",
            "     BatchNorm2d-137           [-1, 1024, 8, 8]           2,048\n",
            "            ReLU-138           [-1, 1024, 8, 8]               0\n",
            "      Bottleneck-139           [-1, 1024, 8, 8]               0\n",
            "          Conv2d-140            [-1, 512, 8, 8]         524,288\n",
            "     BatchNorm2d-141            [-1, 512, 8, 8]           1,024\n",
            "            ReLU-142            [-1, 512, 8, 8]               0\n",
            "          Conv2d-143            [-1, 512, 4, 4]       2,359,296\n",
            "     BatchNorm2d-144            [-1, 512, 4, 4]           1,024\n",
            "            ReLU-145            [-1, 512, 4, 4]               0\n",
            "          Conv2d-146           [-1, 2048, 4, 4]       1,048,576\n",
            "     BatchNorm2d-147           [-1, 2048, 4, 4]           4,096\n",
            "          Conv2d-148           [-1, 2048, 4, 4]       2,097,152\n",
            "     BatchNorm2d-149           [-1, 2048, 4, 4]           4,096\n",
            "            ReLU-150           [-1, 2048, 4, 4]               0\n",
            "      Bottleneck-151           [-1, 2048, 4, 4]               0\n",
            "          Conv2d-152            [-1, 512, 4, 4]       1,048,576\n",
            "     BatchNorm2d-153            [-1, 512, 4, 4]           1,024\n",
            "            ReLU-154            [-1, 512, 4, 4]               0\n",
            "          Conv2d-155            [-1, 512, 4, 4]       2,359,296\n",
            "     BatchNorm2d-156            [-1, 512, 4, 4]           1,024\n",
            "            ReLU-157            [-1, 512, 4, 4]               0\n",
            "          Conv2d-158           [-1, 2048, 4, 4]       1,048,576\n",
            "     BatchNorm2d-159           [-1, 2048, 4, 4]           4,096\n",
            "            ReLU-160           [-1, 2048, 4, 4]               0\n",
            "      Bottleneck-161           [-1, 2048, 4, 4]               0\n",
            "          Conv2d-162            [-1, 512, 4, 4]       1,048,576\n",
            "     BatchNorm2d-163            [-1, 512, 4, 4]           1,024\n",
            "            ReLU-164            [-1, 512, 4, 4]               0\n",
            "          Conv2d-165            [-1, 512, 4, 4]       2,359,296\n",
            "     BatchNorm2d-166            [-1, 512, 4, 4]           1,024\n",
            "            ReLU-167            [-1, 512, 4, 4]               0\n",
            "          Conv2d-168           [-1, 2048, 4, 4]       1,048,576\n",
            "     BatchNorm2d-169           [-1, 2048, 4, 4]           4,096\n",
            "            ReLU-170           [-1, 2048, 4, 4]               0\n",
            "      Bottleneck-171           [-1, 2048, 4, 4]               0\n",
            "AdaptiveAvgPool2d-172           [-1, 2048, 1, 1]               0\n",
            "          Linear-173                  [-1, 100]         204,900\n",
            "================================================================\n",
            "Total params: 23,705,252\n",
            "Trainable params: 23,705,252\n",
            "Non-trainable params: 0\n",
            "----------------------------------------------------------------\n",
            "Input size (MB): 0.01\n",
            "Forward/backward pass size (MB): 88.58\n",
            "Params size (MB): 90.43\n",
            "Estimated Total Size (MB): 179.02\n",
            "----------------------------------------------------------------\n"
          ]
        }
      ],
      "source": [
        "!pip install torchsummary\n",
        "from torchsummary import summary\n",
        "use_cuda = torch.cuda.is_available()\n",
        "device = torch.device(\"cuda\" if use_cuda else \"cpu\")\n",
        "print(device)\n",
        "model = resnet50_cifar().to(device)\n",
        "summary(model, input_size=(3, 32, 32))"
      ]
    },
    {
      "cell_type": "code",
      "execution_count": 98,
      "metadata": {
        "id": "Om5ZmGWrph3g"
      },
      "outputs": [],
      "source": [
        "import torch\n",
        "\n",
        "def topk_accuracy(output, target, k=5):\n",
        "    \"\"\"\n",
        "    Calculates the top-k accuracy for a given output and target.\n",
        "\n",
        "    Args:\n",
        "        output (torch.Tensor): The model's raw output logits, typically from the last layer.\n",
        "        target (torch.Tensor): The ground-truth labels.\n",
        "        k (int): The number of top predictions to consider.\n",
        "\n",
        "    Returns:\n",
        "        float: The top-k accuracy.\n",
        "    \"\"\"\n",
        "    with torch.no_grad():\n",
        "        # Get the top k predictions\n",
        "        _, topk_preds = output.topk(k, dim=1, largest=True, sorted=True)\n",
        "\n",
        "        # Reshape the target tensor for comparison\n",
        "        target_reshaped = target.view(1, -1).expand_as(topk_preds)\n",
        "\n",
        "        # Check if any of the top k predictions match the true label\n",
        "        correct = (topk_preds == target_reshaped)\n",
        "\n",
        "        # Calculate the number of correct predictions\n",
        "        correct_count = correct.any(dim=0).sum().item()\n",
        "\n",
        "        # Return the accuracy as a percentage\n",
        "        return (correct_count / target.size(0))\n"
      ]
    },
    {
      "cell_type": "code",
      "execution_count": 99,
      "metadata": {
        "id": "imHnmYf6RccL"
      },
      "outputs": [],
      "source": [
        "\n",
        "# optimizer = optim.SGD(model.parameters(), lr=0.1, momentum=0.9)\n",
        "# scheduler = torch.optim.lr_scheduler.StepLR(optimizer, step_size=40, gamma=0.1) ## Learning: adjust LR to a smaller value after every 5 epochs for fine tuning\n",
        "optimizer = optim.AdamW(model.parameters(), lr=0.001, weight_decay=1e-4)\n",
        "# scheduler =  torch.optim.lr_scheduler.OneCycleLR(optimizer, max_lr=0.001, total_steps=100, anneal_strategy='cos')\n",
        "\n",
        "scheduler = optim.lr_scheduler.CosineAnnealingLR(optimizer, T_max=50)\n",
        "# optimizer = optim.AdamW(model.parameters(), lr=0.001, weight_decay=1e-4)\n",
        "# scheduler = torch.optim.lr_scheduler.OneCycleLR(\n",
        "#     optimizer,\n",
        "#     max_lr=0.00432,\n",
        "#     epochs=50,\n",
        "#     anneal_strategy='cos',\n",
        "#     steps_per_epoch=len(train_loader),\n",
        "#     pct_start=0.3,\n",
        "#     div_factor=10,\n",
        "#     final_div_factor=1e4\n",
        "# )"
      ]
    },
    {
      "cell_type": "code",
      "execution_count": 100,
      "metadata": {
        "id": "x-ia4Qeg8rOD"
      },
      "outputs": [],
      "source": [
        "from tqdm import tqdm\n",
        "import torch\n",
        "import torch.nn.functional as F\n",
        "\n",
        "train_losses = []\n",
        "test_losses = []\n",
        "train_acc = []\n",
        "test_acc = []\n",
        "test_top5_acc = [] # New list to store top-5 accuracy\n",
        "\n",
        "def train(model, device, train_loader, optimizer, epoch):\n",
        "  model.train()\n",
        "  pbar = tqdm(train_loader)\n",
        "  correct = 0\n",
        "  processed = 0\n",
        "  for batch_idx, (data, target) in enumerate(pbar):\n",
        "    # get samples\n",
        "    data, target = data.to(device), target.to(device)\n",
        "\n",
        "    # Init\n",
        "    optimizer.zero_grad()\n",
        "    # In PyTorch, we need to set the gradients to zero before starting to do backpropragation because PyTorch accumulates the gradients on subsequent backward passes.\n",
        "    # Because of this, when you start your training loop, ideally you should zero out the gradients so that you do the parameter update correctly.\n",
        "\n",
        "    # Predict\n",
        "    y_pred = model(data)\n",
        "\n",
        "    # Calculate loss\n",
        "    loss = F.cross_entropy(y_pred, target,label_smoothing=0.1)\n",
        "    train_losses.append(loss)\n",
        "\n",
        "    # Backpropagation\n",
        "    loss.backward()\n",
        "    optimizer.step()\n",
        "\n",
        "    # Update pbar-tqdm\n",
        "\n",
        "    pred = y_pred.argmax(dim=1, keepdim=True)  # get the index of the max log-probability\n",
        "    correct += pred.eq(target.view_as(pred)).sum().item()\n",
        "    processed += len(data)\n",
        "\n",
        "    pbar.set_description(desc= f'Loss={loss.item()} Batch_id={batch_idx} Accuracy={100*correct/processed:0.2f}')\n",
        "    train_acc.append(100*correct/processed)\n",
        "# Update the learning rate After each batch if doing OnecycleLR else after each epoch\n",
        "scheduler.step()\n",
        "\n",
        "\n",
        "def test(model, device, test_loader):\n",
        "    model.eval()\n",
        "    test_loss = 0\n",
        "    correct = 0\n",
        "    correct_top1 = 0\n",
        "    correct_top5 = 0\n",
        "    with torch.no_grad():\n",
        "        for data, target in test_loader:\n",
        "            data, target = data.to(device), target.to(device)\n",
        "            output = model(data)\n",
        "            test_loss += F.cross_entropy(output, target, reduction='sum').item()\n",
        "\n",
        "            # Top-1 accuracy calculation\n",
        "            pred_top1 = output.argmax(dim=1, keepdim=True)\n",
        "            correct_top1 += pred_top1.eq(target.view_as(pred_top1)).sum().item()\n",
        "\n",
        "            # Top-5 accuracy calculation\n",
        "            # correct_top5 += topk_accuracy(output, target, k=5)\n",
        "\n",
        "    test_loss /= len(test_loader.dataset)\n",
        "    test_losses.append(test_loss)\n",
        "\n",
        "    top1_acc = 100. * correct_top1 / len(test_loader.dataset)\n",
        "    # top5_acc = 100. * correct_top5 / len(test_loader.dataset)\n",
        "\n",
        "    print(f'\\nTest set: Average loss: {test_loss:.4f} ,Top-1 Accuracy: {correct_top1}/{len(test_loader.dataset)} ({top1_acc:.2f}%)%\\n')\n",
        "\n",
        "    test_acc.append(top1_acc)\n",
        "    # test_top5_acc.append(top5_acc)\n"
      ]
    },
    {
      "cell_type": "code",
      "source": [
        "# !pip install torch-lr-finder\n"
      ],
      "metadata": {
        "id": "2hniVlkKY-Tx"
      },
      "execution_count": 101,
      "outputs": []
    },
    {
      "cell_type": "code",
      "execution_count": 102,
      "metadata": {
        "id": "KP6zxmOEaOvv"
      },
      "outputs": [],
      "source": [
        "# import torch\n",
        "# from torch import nn, optim\n",
        "# from torch_lr_finder import LRFinder\n",
        "# import matplotlib.pyplot as plt\n",
        "\n",
        "# # 3. Instantiate model, optimizer, and criterion\n",
        "# device = \"cuda\" if torch.cuda.is_available() else \"cpu\"\n",
        "# # Assuming 'model' is already defined and on the correct device\n",
        "# # e.g., model = resnet34_cifar().to(device)\n",
        "# optimizer = optim.Adam(model.parameters(), lr=1e-7)  # Start with a very small LR\n",
        "# criterion = nn.CrossEntropyLoss()\n",
        "\n",
        "# # 4. Run the LR finder\n",
        "# lr_finder = LRFinder(model, optimizer, criterion, device=device)\n",
        "# lr_finder.range_test(train_loader, end_lr=0.1, num_iter=300)\n",
        "# # 5. Plot the results\n",
        "# lr_finder.plot()\n",
        "\n",
        "# # 6. Reset the model and optimizer to their initial states\n",
        "# lr_finder.reset()\n",
        "# #>>>>>>>>4.32e-03 for batch size 128,\n",
        "# # LR: 9.05E-03 for batch size 256\n",
        "# ##Suggested LR: 7.88E-03 for  batch size 512\n"
      ]
    },
    {
      "cell_type": "code",
      "execution_count": 103,
      "metadata": {
        "id": "5vSFWk6-8vk2",
        "colab": {
          "base_uri": "https://localhost:8080/"
        },
        "outputId": "30ac1569-cd7d-4de2-b60e-fb56408afa9a"
      },
      "outputs": [
        {
          "output_type": "stream",
          "name": "stdout",
          "text": [
            "EPOCH: 1\n"
          ]
        },
        {
          "output_type": "stream",
          "name": "stderr",
          "text": [
            "Loss=3.964966297149658 Batch_id=195 Accuracy=7.16: 100%|██████████| 196/196 [01:33<00:00,  2.09it/s]\n"
          ]
        },
        {
          "output_type": "stream",
          "name": "stdout",
          "text": [
            "\n",
            "Test set: Average loss: 3.7062 ,Top-1 Accuracy: 1196/10000 (11.96%)%\n",
            "\n",
            "EPOCH: 2\n"
          ]
        },
        {
          "output_type": "stream",
          "name": "stderr",
          "text": [
            "Loss=3.6930575370788574 Batch_id=195 Accuracy=16.08: 100%|██████████| 196/196 [01:34<00:00,  2.08it/s]\n"
          ]
        },
        {
          "output_type": "stream",
          "name": "stdout",
          "text": [
            "\n",
            "Test set: Average loss: 3.1890 ,Top-1 Accuracy: 2181/10000 (21.81%)%\n",
            "\n",
            "EPOCH: 3\n"
          ]
        },
        {
          "output_type": "stream",
          "name": "stderr",
          "text": [
            "Loss=3.5002551078796387 Batch_id=195 Accuracy=24.59: 100%|██████████| 196/196 [01:33<00:00,  2.09it/s]\n"
          ]
        },
        {
          "output_type": "stream",
          "name": "stdout",
          "text": [
            "\n",
            "Test set: Average loss: 18.2392 ,Top-1 Accuracy: 2753/10000 (27.53%)%\n",
            "\n",
            "EPOCH: 4\n"
          ]
        },
        {
          "output_type": "stream",
          "name": "stderr",
          "text": [
            "Loss=2.985780715942383 Batch_id=195 Accuracy=30.74: 100%|██████████| 196/196 [01:34<00:00,  2.08it/s]\n"
          ]
        },
        {
          "output_type": "stream",
          "name": "stdout",
          "text": [
            "\n",
            "Test set: Average loss: 2.6567 ,Top-1 Accuracy: 3331/10000 (33.31%)%\n",
            "\n",
            "EPOCH: 5\n"
          ]
        },
        {
          "output_type": "stream",
          "name": "stderr",
          "text": [
            "Loss=2.615804672241211 Batch_id=195 Accuracy=37.64: 100%|██████████| 196/196 [01:34<00:00,  2.09it/s]\n"
          ]
        },
        {
          "output_type": "stream",
          "name": "stdout",
          "text": [
            "\n",
            "Test set: Average loss: 2.3519 ,Top-1 Accuracy: 3961/10000 (39.61%)%\n",
            "\n",
            "EPOCH: 6\n"
          ]
        },
        {
          "output_type": "stream",
          "name": "stderr",
          "text": [
            "Loss=2.6683061122894287 Batch_id=195 Accuracy=42.77: 100%|██████████| 196/196 [01:34<00:00,  2.08it/s]\n"
          ]
        },
        {
          "output_type": "stream",
          "name": "stdout",
          "text": [
            "\n",
            "Test set: Average loss: 2.1055 ,Top-1 Accuracy: 4415/10000 (44.15%)%\n",
            "\n",
            "EPOCH: 7\n"
          ]
        },
        {
          "output_type": "stream",
          "name": "stderr",
          "text": [
            "Loss=2.63608717918396 Batch_id=195 Accuracy=46.70: 100%|██████████| 196/196 [01:34<00:00,  2.08it/s]\n"
          ]
        },
        {
          "output_type": "stream",
          "name": "stdout",
          "text": [
            "\n",
            "Test set: Average loss: 2.1821 ,Top-1 Accuracy: 4503/10000 (45.03%)%\n",
            "\n",
            "EPOCH: 8\n"
          ]
        },
        {
          "output_type": "stream",
          "name": "stderr",
          "text": [
            "Loss=2.349241018295288 Batch_id=195 Accuracy=50.59: 100%|██████████| 196/196 [01:34<00:00,  2.08it/s]\n"
          ]
        },
        {
          "output_type": "stream",
          "name": "stdout",
          "text": [
            "\n",
            "Test set: Average loss: 1.9224 ,Top-1 Accuracy: 4965/10000 (49.65%)%\n",
            "\n",
            "EPOCH: 9\n"
          ]
        },
        {
          "output_type": "stream",
          "name": "stderr",
          "text": [
            "Loss=2.2405354976654053 Batch_id=195 Accuracy=53.57: 100%|██████████| 196/196 [01:34<00:00,  2.08it/s]\n"
          ]
        },
        {
          "output_type": "stream",
          "name": "stdout",
          "text": [
            "\n",
            "Test set: Average loss: 1.8116 ,Top-1 Accuracy: 5183/10000 (51.83%)%\n",
            "\n",
            "EPOCH: 10\n"
          ]
        },
        {
          "output_type": "stream",
          "name": "stderr",
          "text": [
            "Loss=2.328219413757324 Batch_id=195 Accuracy=55.99: 100%|██████████| 196/196 [01:35<00:00,  2.06it/s]\n"
          ]
        },
        {
          "output_type": "stream",
          "name": "stdout",
          "text": [
            "\n",
            "Test set: Average loss: 1.6180 ,Top-1 Accuracy: 5622/10000 (56.22%)%\n",
            "\n",
            "EPOCH: 11\n"
          ]
        },
        {
          "output_type": "stream",
          "name": "stderr",
          "text": [
            "Loss=2.1083405017852783 Batch_id=195 Accuracy=58.60: 100%|██████████| 196/196 [01:34<00:00,  2.08it/s]\n"
          ]
        },
        {
          "output_type": "stream",
          "name": "stdout",
          "text": [
            "\n",
            "Test set: Average loss: 1.5715 ,Top-1 Accuracy: 5761/10000 (57.61%)%\n",
            "\n",
            "EPOCH: 12\n"
          ]
        },
        {
          "output_type": "stream",
          "name": "stderr",
          "text": [
            "Loss=2.00890851020813 Batch_id=195 Accuracy=60.84: 100%|██████████| 196/196 [01:34<00:00,  2.08it/s]\n"
          ]
        },
        {
          "output_type": "stream",
          "name": "stdout",
          "text": [
            "\n",
            "Test set: Average loss: 1.5895 ,Top-1 Accuracy: 5754/10000 (57.54%)%\n",
            "\n",
            "EPOCH: 13\n"
          ]
        },
        {
          "output_type": "stream",
          "name": "stderr",
          "text": [
            "Loss=2.1160078048706055 Batch_id=195 Accuracy=62.87: 100%|██████████| 196/196 [01:34<00:00,  2.08it/s]\n"
          ]
        },
        {
          "output_type": "stream",
          "name": "stdout",
          "text": [
            "\n",
            "Test set: Average loss: 1.5873 ,Top-1 Accuracy: 5797/10000 (57.97%)%\n",
            "\n",
            "EPOCH: 14\n"
          ]
        },
        {
          "output_type": "stream",
          "name": "stderr",
          "text": [
            "Loss=1.9782414436340332 Batch_id=195 Accuracy=64.32: 100%|██████████| 196/196 [01:35<00:00,  2.06it/s]\n"
          ]
        },
        {
          "output_type": "stream",
          "name": "stdout",
          "text": [
            "\n",
            "Test set: Average loss: 1.4413 ,Top-1 Accuracy: 6133/10000 (61.33%)%\n",
            "\n",
            "EPOCH: 15\n"
          ]
        },
        {
          "output_type": "stream",
          "name": "stderr",
          "text": [
            "Loss=2.0952887535095215 Batch_id=195 Accuracy=66.42: 100%|██████████| 196/196 [01:34<00:00,  2.08it/s]\n"
          ]
        },
        {
          "output_type": "stream",
          "name": "stdout",
          "text": [
            "\n",
            "Test set: Average loss: 1.4113 ,Top-1 Accuracy: 6269/10000 (62.69%)%\n",
            "\n",
            "EPOCH: 16\n"
          ]
        },
        {
          "output_type": "stream",
          "name": "stderr",
          "text": [
            "Loss=2.022798776626587 Batch_id=195 Accuracy=67.68: 100%|██████████| 196/196 [01:34<00:00,  2.08it/s]\n"
          ]
        },
        {
          "output_type": "stream",
          "name": "stdout",
          "text": [
            "\n",
            "Test set: Average loss: 1.3600 ,Top-1 Accuracy: 6344/10000 (63.44%)%\n",
            "\n",
            "EPOCH: 17\n"
          ]
        },
        {
          "output_type": "stream",
          "name": "stderr",
          "text": [
            "Loss=1.7496129274368286 Batch_id=195 Accuracy=69.41: 100%|██████████| 196/196 [01:34<00:00,  2.08it/s]\n"
          ]
        },
        {
          "output_type": "stream",
          "name": "stdout",
          "text": [
            "\n",
            "Test set: Average loss: 1.3465 ,Top-1 Accuracy: 6430/10000 (64.30%)%\n",
            "\n",
            "EPOCH: 18\n"
          ]
        },
        {
          "output_type": "stream",
          "name": "stderr",
          "text": [
            "Loss=1.6562418937683105 Batch_id=195 Accuracy=70.90: 100%|██████████| 196/196 [01:34<00:00,  2.08it/s]\n"
          ]
        },
        {
          "output_type": "stream",
          "name": "stdout",
          "text": [
            "\n",
            "Test set: Average loss: 1.4056 ,Top-1 Accuracy: 6333/10000 (63.33%)%\n",
            "\n",
            "EPOCH: 19\n"
          ]
        },
        {
          "output_type": "stream",
          "name": "stderr",
          "text": [
            "Loss=1.8577455282211304 Batch_id=195 Accuracy=72.24: 100%|██████████| 196/196 [01:35<00:00,  2.05it/s]\n"
          ]
        },
        {
          "output_type": "stream",
          "name": "stdout",
          "text": [
            "\n",
            "Test set: Average loss: 1.4125 ,Top-1 Accuracy: 6393/10000 (63.93%)%\n",
            "\n",
            "EPOCH: 20\n"
          ]
        },
        {
          "output_type": "stream",
          "name": "stderr",
          "text": [
            "Loss=1.8185133934020996 Batch_id=195 Accuracy=73.69: 100%|██████████| 196/196 [01:34<00:00,  2.08it/s]\n"
          ]
        },
        {
          "output_type": "stream",
          "name": "stdout",
          "text": [
            "\n",
            "Test set: Average loss: 1.3132 ,Top-1 Accuracy: 6558/10000 (65.58%)%\n",
            "\n",
            "EPOCH: 21\n"
          ]
        },
        {
          "output_type": "stream",
          "name": "stderr",
          "text": [
            "Loss=1.6372913122177124 Batch_id=195 Accuracy=74.82: 100%|██████████| 196/196 [01:34<00:00,  2.08it/s]\n"
          ]
        },
        {
          "output_type": "stream",
          "name": "stdout",
          "text": [
            "\n",
            "Test set: Average loss: 1.3230 ,Top-1 Accuracy: 6470/10000 (64.70%)%\n",
            "\n",
            "EPOCH: 22\n"
          ]
        },
        {
          "output_type": "stream",
          "name": "stderr",
          "text": [
            "Loss=1.8196656703948975 Batch_id=195 Accuracy=76.12: 100%|██████████| 196/196 [01:34<00:00,  2.08it/s]\n"
          ]
        },
        {
          "output_type": "stream",
          "name": "stdout",
          "text": [
            "\n",
            "Test set: Average loss: 1.2289 ,Top-1 Accuracy: 6752/10000 (67.52%)%\n",
            "\n",
            "EPOCH: 23\n"
          ]
        },
        {
          "output_type": "stream",
          "name": "stderr",
          "text": [
            "Loss=1.7683608531951904 Batch_id=195 Accuracy=77.49: 100%|██████████| 196/196 [01:34<00:00,  2.08it/s]\n"
          ]
        },
        {
          "output_type": "stream",
          "name": "stdout",
          "text": [
            "\n",
            "Test set: Average loss: 1.2581 ,Top-1 Accuracy: 6659/10000 (66.59%)%\n",
            "\n",
            "EPOCH: 24\n"
          ]
        },
        {
          "output_type": "stream",
          "name": "stderr",
          "text": [
            "Loss=1.6367754936218262 Batch_id=195 Accuracy=78.77: 100%|██████████| 196/196 [01:35<00:00,  2.05it/s]\n"
          ]
        },
        {
          "output_type": "stream",
          "name": "stdout",
          "text": [
            "\n",
            "Test set: Average loss: 1.2314 ,Top-1 Accuracy: 6739/10000 (67.39%)%\n",
            "\n",
            "EPOCH: 25\n"
          ]
        },
        {
          "output_type": "stream",
          "name": "stderr",
          "text": [
            "Loss=1.6420657634735107 Batch_id=195 Accuracy=79.44: 100%|██████████| 196/196 [01:34<00:00,  2.07it/s]\n"
          ]
        },
        {
          "output_type": "stream",
          "name": "stdout",
          "text": [
            "\n",
            "Test set: Average loss: 1.3662 ,Top-1 Accuracy: 6584/10000 (65.84%)%\n",
            "\n",
            "EPOCH: 26\n"
          ]
        },
        {
          "output_type": "stream",
          "name": "stderr",
          "text": [
            "Loss=1.5651440620422363 Batch_id=195 Accuracy=80.37: 100%|██████████| 196/196 [01:34<00:00,  2.07it/s]\n"
          ]
        },
        {
          "output_type": "stream",
          "name": "stdout",
          "text": [
            "\n",
            "Test set: Average loss: 1.2791 ,Top-1 Accuracy: 6674/10000 (66.74%)%\n",
            "\n",
            "EPOCH: 27\n"
          ]
        },
        {
          "output_type": "stream",
          "name": "stderr",
          "text": [
            "Loss=1.591516137123108 Batch_id=195 Accuracy=80.70: 100%|██████████| 196/196 [01:34<00:00,  2.07it/s]\n"
          ]
        },
        {
          "output_type": "stream",
          "name": "stdout",
          "text": [
            "\n",
            "Test set: Average loss: 1.2523 ,Top-1 Accuracy: 6832/10000 (68.32%)%\n",
            "\n",
            "EPOCH: 28\n"
          ]
        },
        {
          "output_type": "stream",
          "name": "stderr",
          "text": [
            "Loss=1.5521619319915771 Batch_id=195 Accuracy=82.02: 100%|██████████| 196/196 [01:34<00:00,  2.07it/s]\n"
          ]
        },
        {
          "output_type": "stream",
          "name": "stdout",
          "text": [
            "\n",
            "Test set: Average loss: 1.2137 ,Top-1 Accuracy: 6798/10000 (67.98%)%\n",
            "\n",
            "EPOCH: 29\n"
          ]
        },
        {
          "output_type": "stream",
          "name": "stderr",
          "text": [
            "Loss=1.443932294845581 Batch_id=195 Accuracy=83.18: 100%|██████████| 196/196 [01:34<00:00,  2.07it/s]\n"
          ]
        },
        {
          "output_type": "stream",
          "name": "stdout",
          "text": [
            "\n",
            "Test set: Average loss: 1.1773 ,Top-1 Accuracy: 6992/10000 (69.92%)%\n",
            "\n",
            "EPOCH: 30\n"
          ]
        },
        {
          "output_type": "stream",
          "name": "stderr",
          "text": [
            "Loss=1.6058552265167236 Batch_id=195 Accuracy=84.34: 100%|██████████| 196/196 [01:34<00:00,  2.07it/s]\n"
          ]
        },
        {
          "output_type": "stream",
          "name": "stdout",
          "text": [
            "\n",
            "Test set: Average loss: 1.1969 ,Top-1 Accuracy: 6930/10000 (69.30%)%\n",
            "\n",
            "EPOCH: 31\n"
          ]
        },
        {
          "output_type": "stream",
          "name": "stderr",
          "text": [
            "Loss=1.3472199440002441 Batch_id=195 Accuracy=84.90: 100%|██████████| 196/196 [01:34<00:00,  2.07it/s]\n"
          ]
        },
        {
          "output_type": "stream",
          "name": "stdout",
          "text": [
            "\n",
            "Test set: Average loss: 1.2219 ,Top-1 Accuracy: 6927/10000 (69.27%)%\n",
            "\n",
            "EPOCH: 32\n"
          ]
        },
        {
          "output_type": "stream",
          "name": "stderr",
          "text": [
            "Loss=1.2491834163665771 Batch_id=195 Accuracy=85.48: 100%|██████████| 196/196 [01:38<00:00,  1.99it/s]\n"
          ]
        },
        {
          "output_type": "stream",
          "name": "stdout",
          "text": [
            "\n",
            "Test set: Average loss: 1.2357 ,Top-1 Accuracy: 6899/10000 (68.99%)%\n",
            "\n",
            "EPOCH: 33\n"
          ]
        },
        {
          "output_type": "stream",
          "name": "stderr",
          "text": [
            "Loss=1.2368626594543457 Batch_id=195 Accuracy=86.55: 100%|██████████| 196/196 [01:34<00:00,  2.07it/s]\n"
          ]
        },
        {
          "output_type": "stream",
          "name": "stdout",
          "text": [
            "\n",
            "Test set: Average loss: 1.1721 ,Top-1 Accuracy: 7061/10000 (70.61%)%\n",
            "\n",
            "EPOCH: 34\n"
          ]
        },
        {
          "output_type": "stream",
          "name": "stderr",
          "text": [
            "Loss=1.2587451934814453 Batch_id=195 Accuracy=87.20: 100%|██████████| 196/196 [01:34<00:00,  2.07it/s]\n"
          ]
        },
        {
          "output_type": "stream",
          "name": "stdout",
          "text": [
            "\n",
            "Test set: Average loss: 1.2283 ,Top-1 Accuracy: 6990/10000 (69.90%)%\n",
            "\n",
            "EPOCH: 35\n"
          ]
        },
        {
          "output_type": "stream",
          "name": "stderr",
          "text": [
            "Loss=1.3597486019134521 Batch_id=195 Accuracy=87.23: 100%|██████████| 196/196 [01:34<00:00,  2.07it/s]\n"
          ]
        },
        {
          "output_type": "stream",
          "name": "stdout",
          "text": [
            "\n",
            "Test set: Average loss: 1.2181 ,Top-1 Accuracy: 6976/10000 (69.76%)%\n",
            "\n",
            "EPOCH: 36\n"
          ]
        },
        {
          "output_type": "stream",
          "name": "stderr",
          "text": [
            "Loss=1.3507905006408691 Batch_id=195 Accuracy=87.45: 100%|██████████| 196/196 [01:34<00:00,  2.07it/s]\n"
          ]
        },
        {
          "output_type": "stream",
          "name": "stdout",
          "text": [
            "\n",
            "Test set: Average loss: 1.2959 ,Top-1 Accuracy: 6830/10000 (68.30%)%\n",
            "\n",
            "EPOCH: 37\n"
          ]
        },
        {
          "output_type": "stream",
          "name": "stderr",
          "text": [
            "Loss=1.1790932416915894 Batch_id=195 Accuracy=87.77: 100%|██████████| 196/196 [01:34<00:00,  2.07it/s]\n"
          ]
        },
        {
          "output_type": "stream",
          "name": "stdout",
          "text": [
            "\n",
            "Test set: Average loss: 1.2382 ,Top-1 Accuracy: 6917/10000 (69.17%)%\n",
            "\n",
            "EPOCH: 38\n"
          ]
        },
        {
          "output_type": "stream",
          "name": "stderr",
          "text": [
            "Loss=1.2720849514007568 Batch_id=195 Accuracy=88.00: 100%|██████████| 196/196 [01:34<00:00,  2.07it/s]\n"
          ]
        },
        {
          "output_type": "stream",
          "name": "stdout",
          "text": [
            "\n",
            "Test set: Average loss: 1.2530 ,Top-1 Accuracy: 6955/10000 (69.55%)%\n",
            "\n",
            "EPOCH: 39\n"
          ]
        },
        {
          "output_type": "stream",
          "name": "stderr",
          "text": [
            "Loss=1.1637111902236938 Batch_id=195 Accuracy=88.79: 100%|██████████| 196/196 [01:34<00:00,  2.07it/s]\n"
          ]
        },
        {
          "output_type": "stream",
          "name": "stdout",
          "text": [
            "\n",
            "Test set: Average loss: 1.2177 ,Top-1 Accuracy: 7061/10000 (70.61%)%\n",
            "\n",
            "EPOCH: 40\n"
          ]
        },
        {
          "output_type": "stream",
          "name": "stderr",
          "text": [
            "Loss=1.26515531539917 Batch_id=195 Accuracy=89.63: 100%|██████████| 196/196 [01:37<00:00,  2.02it/s]\n"
          ]
        },
        {
          "output_type": "stream",
          "name": "stdout",
          "text": [
            "\n",
            "Test set: Average loss: 1.1932 ,Top-1 Accuracy: 7041/10000 (70.41%)%\n",
            "\n",
            "EPOCH: 41\n"
          ]
        },
        {
          "output_type": "stream",
          "name": "stderr",
          "text": [
            "Loss=1.2666442394256592 Batch_id=195 Accuracy=89.58: 100%|██████████| 196/196 [01:34<00:00,  2.07it/s]\n"
          ]
        },
        {
          "output_type": "stream",
          "name": "stdout",
          "text": [
            "\n",
            "Test set: Average loss: 1.2035 ,Top-1 Accuracy: 7112/10000 (71.12%)%\n",
            "\n",
            "EPOCH: 42\n"
          ]
        },
        {
          "output_type": "stream",
          "name": "stderr",
          "text": [
            "Loss=1.3377957344055176 Batch_id=195 Accuracy=90.02: 100%|██████████| 196/196 [01:34<00:00,  2.06it/s]\n"
          ]
        },
        {
          "output_type": "stream",
          "name": "stdout",
          "text": [
            "\n",
            "Test set: Average loss: 1.2080 ,Top-1 Accuracy: 7080/10000 (70.80%)%\n",
            "\n",
            "EPOCH: 43\n"
          ]
        },
        {
          "output_type": "stream",
          "name": "stderr",
          "text": [
            "Loss=1.1525561809539795 Batch_id=195 Accuracy=90.26: 100%|██████████| 196/196 [01:34<00:00,  2.07it/s]\n"
          ]
        },
        {
          "output_type": "stream",
          "name": "stdout",
          "text": [
            "\n",
            "Test set: Average loss: 1.2462 ,Top-1 Accuracy: 6998/10000 (69.98%)%\n",
            "\n",
            "EPOCH: 44\n"
          ]
        },
        {
          "output_type": "stream",
          "name": "stderr",
          "text": [
            "Loss=1.253391981124878 Batch_id=195 Accuracy=90.44: 100%|██████████| 196/196 [01:34<00:00,  2.07it/s]\n"
          ]
        },
        {
          "output_type": "stream",
          "name": "stdout",
          "text": [
            "\n",
            "Test set: Average loss: 1.2379 ,Top-1 Accuracy: 6997/10000 (69.97%)%\n",
            "\n",
            "EPOCH: 45\n"
          ]
        },
        {
          "output_type": "stream",
          "name": "stderr",
          "text": [
            "Loss=1.2284057140350342 Batch_id=195 Accuracy=90.65: 100%|██████████| 196/196 [01:34<00:00,  2.07it/s]\n"
          ]
        },
        {
          "output_type": "stream",
          "name": "stdout",
          "text": [
            "\n",
            "Test set: Average loss: 1.2136 ,Top-1 Accuracy: 7117/10000 (71.17%)%\n",
            "\n",
            "EPOCH: 46\n"
          ]
        },
        {
          "output_type": "stream",
          "name": "stderr",
          "text": [
            "Loss=1.227590560913086 Batch_id=195 Accuracy=90.89: 100%|██████████| 196/196 [01:34<00:00,  2.07it/s]\n"
          ]
        },
        {
          "output_type": "stream",
          "name": "stdout",
          "text": [
            "\n",
            "Test set: Average loss: 1.2485 ,Top-1 Accuracy: 7013/10000 (70.13%)%\n",
            "\n",
            "EPOCH: 47\n"
          ]
        },
        {
          "output_type": "stream",
          "name": "stderr",
          "text": [
            "Loss=1.3882008790969849 Batch_id=195 Accuracy=90.82: 100%|██████████| 196/196 [01:34<00:00,  2.06it/s]\n"
          ]
        },
        {
          "output_type": "stream",
          "name": "stdout",
          "text": [
            "\n",
            "Test set: Average loss: 1.3297 ,Top-1 Accuracy: 6818/10000 (68.18%)%\n",
            "\n",
            "EPOCH: 48\n"
          ]
        },
        {
          "output_type": "stream",
          "name": "stderr",
          "text": [
            "Loss=1.3292077779769897 Batch_id=195 Accuracy=85.32: 100%|██████████| 196/196 [01:34<00:00,  2.06it/s]\n"
          ]
        },
        {
          "output_type": "stream",
          "name": "stdout",
          "text": [
            "\n",
            "Test set: Average loss: 1.2268 ,Top-1 Accuracy: 7059/10000 (70.59%)%\n",
            "\n",
            "EPOCH: 49\n"
          ]
        },
        {
          "output_type": "stream",
          "name": "stderr",
          "text": [
            "Loss=1.1238197088241577 Batch_id=195 Accuracy=90.60: 100%|██████████| 196/196 [01:34<00:00,  2.06it/s]\n"
          ]
        },
        {
          "output_type": "stream",
          "name": "stdout",
          "text": [
            "\n",
            "Test set: Average loss: 1.2360 ,Top-1 Accuracy: 7081/10000 (70.81%)%\n",
            "\n",
            "EPOCH: 50\n"
          ]
        },
        {
          "output_type": "stream",
          "name": "stderr",
          "text": [
            "Loss=1.1494756937026978 Batch_id=195 Accuracy=91.35: 100%|██████████| 196/196 [01:34<00:00,  2.06it/s]\n"
          ]
        },
        {
          "output_type": "stream",
          "name": "stdout",
          "text": [
            "\n",
            "Test set: Average loss: 1.1914 ,Top-1 Accuracy: 7155/10000 (71.55%)%\n",
            "\n"
          ]
        }
      ],
      "source": [
        "torch.autograd.set_detect_anomaly(True)\n",
        "EPOCHS = 50\n",
        "for epoch in range(EPOCHS):\n",
        "    print(\"EPOCH:\", epoch+1)\n",
        "    train(model, device, train_loader, optimizer, epoch)\n",
        "    test(model, device, test_loader)"
      ]
    },
    {
      "cell_type": "code",
      "execution_count": 104,
      "metadata": {
        "id": "B5MFqE1yaSjn",
        "colab": {
          "base_uri": "https://localhost:8080/",
          "height": 870
        },
        "outputId": "95fd1b5f-7522-46ef-89dc-45e8d79130da"
      },
      "outputs": [
        {
          "output_type": "execute_result",
          "data": {
            "text/plain": [
              "Text(0.5, 1.0, 'Test Accuracy')"
            ]
          },
          "metadata": {},
          "execution_count": 104
        },
        {
          "output_type": "display_data",
          "data": {
            "text/plain": [
              "<Figure size 1500x1000 with 4 Axes>"
            ],
            "image/png": "[encoded data removed]"
          },
          "metadata": {}
        }
      ],
      "source": [
        "t = [t_items.item() for t_items in train_losses]\n",
        "%matplotlib inline\n",
        "import matplotlib.pyplot as plt\n",
        "fig, axs = plt.subplots(2,2,figsize=(15,10))\n",
        "\n",
        "axs[0, 0].plot(t)\n",
        "axs[0, 0].set_title(\"Training Loss\")\n",
        "axs[1, 0].plot(train_acc)\n",
        "axs[1, 0].set_title(\"Training Accuracy\")\n",
        "axs[0, 1].plot(test_losses)\n",
        "axs[0, 1].set_title(\"Test Loss\")\n",
        "axs[1, 1].plot(test_acc)\n",
        "axs[1, 1].set_title(\"Test Accuracy\")"
      ]
    },
    {
      "cell_type": "code",
      "source": [
        "from google.colab import drive\n",
        "import torch\n",
        "\n",
        "drive.mount('/gdrive')\n",
        "# Save the model's state dictionary\n",
        "torch.save(model.state_dict(), '/gdrive/My Drive/CIFAR100onResnet50v3.pth')\n",
        "print(\"Model saved to /gdrive/My Drive/CIFAR100onResnet50v3.pth\")"
      ],
      "metadata": {
        "id": "rnh-u2UN5q09",
        "colab": {
          "base_uri": "https://localhost:8080/"
        },
        "outputId": "411588b8-5e22-4e2b-d2ca-ef75c15d01c5"
      },
      "execution_count": 106,
      "outputs": [
        {
          "output_type": "stream",
          "name": "stdout",
          "text": [
            "Drive already mounted at /gdrive; to attempt to forcibly remount, call drive.mount(\"/gdrive\", force_remount=True).\n",
            "Model saved to /gdrive/My Drive/CIFAR100onResnet50.pth\n"
          ]
        }
      ]
    },
    {
      "cell_type": "markdown",
      "source": [],
      "metadata": {
        "id": "OBIyJ5Y05qWz"
      }
    }
  ],
  "metadata": {
    "accelerator": "GPU",
    "colab": {
      "gpuType": "L4",
      "provenance": [],
      "authorship_tag": "ABX9TyOUqZy7ThDpweJ91HI2C9QT",
      "include_colab_link": true
    },
    "kernelspec": {
      "display_name": "Python 3",
      "name": "python3"
    },
    "language_info": {
      "name": "python"
    }
  },
  "nbformat": 4,
  "nbformat_minor": 0
}